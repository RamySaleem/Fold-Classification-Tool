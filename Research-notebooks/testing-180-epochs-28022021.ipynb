{
 "cells": [
  {
   "cell_type": "code",
   "execution_count": 1,
   "metadata": {
    "id": "hXeCaBfwH8mK"
   },
   "outputs": [],
   "source": [
    "import cv2\n",
    "import numpy as np\n",
    "import matplotlib.pyplot as plt\n",
    "import seaborn as sns; sns.set()\n",
    "from keras.datasets import cifar10\n",
    "from sklearn.preprocessing import OneHotEncoder\n",
    "from sklearn.metrics import confusion_matrix\n",
    "from keras.layers import Conv2D, MaxPool2D, Flatten, Dense, Dropout\n",
    "from keras.models import Sequential, load_model\n",
    "from keras.callbacks import EarlyStopping"
   ]
  },
  {
   "cell_type": "code",
   "execution_count": 2,
   "metadata": {
    "id": "jhiGVujXH99e"
   },
   "outputs": [],
   "source": [
    "import glob\n",
    "import os\n",
    "import torch\n",
    "import tarfile\n",
    "import imageio\n",
    "import tarfile\n",
    "import pandas as pd\n",
    "import numpy as np\n",
    "import torchvision\n",
    "from PIL import Image\n",
    "import seaborn as sns\n",
    "import torchvision.models as models\n",
    "import matplotlib.pyplot as plt\n",
    "from tqdm.notebook import tqdm\n",
    "import torchvision.transforms as T\n",
    "from sklearn.metrics import f1_score\n",
    "import torch.nn.functional as F\n",
    "import torch.nn as nn\n",
    "from torchvision.utils import make_grid\n",
    "import matplotlib\n",
    "%matplotlib inline\n",
    "import torchvision.transforms as transforms\n",
    "import torchvision.transforms as tt\n",
    "from torchvision.datasets.utils import download_url\n",
    "from torch.utils.data import Dataset, random_split, DataLoader\n",
    "from torchvision.datasets import ImageFolder\n",
    "from torchvision.transforms import ToTensor\n",
    "import tensorflow as tf\n",
    "from keras_preprocessing.image import ImageDataGenerator\n",
    "import torch.nn as nn\n",
    "import torch.nn.functional as F\n",
    "\n",
    "matplotlib.rcParams['figure.facecolor'] = '#ffffff'"
   ]
  },
  {
   "cell_type": "code",
   "execution_count": 3,
   "metadata": {
    "colab": {
     "base_uri": "https://localhost:8080/"
    },
    "id": "ztSqDxHVIE9s",
    "outputId": "63bebd59-c551-4323-c2a3-d1b8a423f084"
   },
   "outputs": [
    {
     "name": "stdout",
     "output_type": "stream",
     "text": [
      "Drive already mounted at /content/drive; to attempt to forcibly remount, call drive.mount(\"/content/drive\", force_remount=True).\n"
     ]
    }
   ],
   "source": [
    "from google.colab import drive\n",
    "drive.mount('/content/drive')"
   ]
  },
  {
   "cell_type": "code",
   "execution_count": 4,
   "metadata": {
    "colab": {
     "base_uri": "https://localhost:8080/"
    },
    "id": "_yFqCLqKIN99",
    "outputId": "41731cf0-0af6-4ba1-f8a6-2704f8c111eb"
   },
   "outputs": [
    {
     "name": "stdout",
     "output_type": "stream",
     "text": [
      "['TEST', 'VAL', 'TRAIN']\n",
      "['rounded', 'chevron', 'box']\n"
     ]
    }
   ],
   "source": [
    "train_dir = '/content/drive/MyDrive/fold'\n",
    "\n",
    "print(os.listdir(train_dir))\n",
    "classes = os.listdir(train_dir + \"/TRAIN\")\n",
    "print(classes)"
   ]
  },
  {
   "cell_type": "code",
   "execution_count": 5,
   "metadata": {
    "colab": {
     "base_uri": "https://localhost:8080/"
    },
    "id": "HK74L-xUIVCT",
    "outputId": "81100b4c-242f-468e-cb12-8776a45671a9"
   },
   "outputs": [
    {
     "name": "stdout",
     "output_type": "stream",
     "text": [
      "['TEST', 'VAL', 'TRAIN']\n",
      "['chevron', 'box', 'rounded']\n"
     ]
    }
   ],
   "source": [
    "valid_dir = '/content/drive/MyDrive/fold'\n",
    "\n",
    "print(os.listdir(valid_dir))\n",
    "classes = os.listdir(valid_dir + \"/VAL\")\n",
    "print(classes)"
   ]
  },
  {
   "cell_type": "code",
   "execution_count": 6,
   "metadata": {
    "colab": {
     "base_uri": "https://localhost:8080/"
    },
    "id": "1NZbeKgsIU9o",
    "outputId": "3cc82e41-9942-4b02-a247-49ee77173983"
   },
   "outputs": [
    {
     "name": "stdout",
     "output_type": "stream",
     "text": [
      "['TEST', 'VAL', 'TRAIN']\n",
      "['chevron', 'box', 'rounded']\n"
     ]
    }
   ],
   "source": [
    "test_dir = '/content/drive/MyDrive/fold'\n",
    "\n",
    "print(os.listdir(test_dir))\n",
    "classes = os.listdir(test_dir + \"/TEST\")\n",
    "print(classes)"
   ]
  },
  {
   "cell_type": "code",
   "execution_count": 7,
   "metadata": {
    "id": "4tzOWzUjIU4L"
   },
   "outputs": [],
   "source": [
    "# transform = transforms.Compose([transforms.Resize((32, 32)), \n",
    "#                                 transforms.Grayscale(num_output_channels=3),\n",
    "#                                 transforms.ToTensor()])"
   ]
  },
  {
   "cell_type": "code",
   "execution_count": 8,
   "metadata": {
    "id": "6J-Ap9z1chxb"
   },
   "outputs": [],
   "source": [
    "import torchvision.transforms as tt"
   ]
  },
  {
   "cell_type": "code",
   "execution_count": 9,
   "metadata": {
    "id": "U0w_wBw_b11-"
   },
   "outputs": [],
   "source": [
    "# Data transforms (normalization & data augmentation)\n",
    "stats = ((0.4914, 0.4822, 0.4465), (0.2023, 0.1994, 0.2010))\n",
    "train_tfms = tt.Compose([tt.Resize((32, 32)),\n",
    "                         tt.Grayscale(num_output_channels=3),\n",
    "                         tt.RandomCrop(32, padding=4, padding_mode='reflect'), \n",
    "                         tt.RandomHorizontalFlip(), \n",
    "                         #tt.RandomRotate(degrees(-90, 90), fill(0,)),\n",
    "                         #tt.RandomResizedCrop(32, scale=(0.5,0.9), ratio=(1, 1)), \n",
    "                         #tt.ColorJitter(brightness=0.1, contrast=0.1, saturation=0.1, hue=0.1),\n",
    "                         tt.ToTensor(), \n",
    "                         tt.Normalize(*stats,inplace=True)])\n",
    "\n",
    "\n",
    "valid_tfms = tt.Compose([tt.Resize((32, 32)),\n",
    "                         tt.Grayscale(num_output_channels=3),                             \n",
    "                         tt.ToTensor(), tt.Normalize(*stats)])\n",
    "\n",
    "test_tfms = tt.Compose([tt.Resize((32, 32)),\n",
    "                         tt.Grayscale(num_output_channels=3),                             \n",
    "                         tt.ToTensor(), tt.Normalize(*stats)])"
   ]
  },
  {
   "cell_type": "code",
   "execution_count": 10,
   "metadata": {
    "id": "nvtbbKTJb1qM"
   },
   "outputs": [],
   "source": [
    "# PyTorch datasets\n",
    "train_ds = ImageFolder(train_dir+'/TRAIN', train_tfms)\n",
    "valid_ds = ImageFolder(valid_dir+'/VAL', valid_tfms)\n",
    "test_ds = ImageFolder(valid_dir+'/TEST', test_tfms)"
   ]
  },
  {
   "cell_type": "code",
   "execution_count": 11,
   "metadata": {
    "id": "fQn1MsaNIUjJ"
   },
   "outputs": [],
   "source": [
    "# train_ds = ImageFolder(\"/content/drive/MyDrive/fold/TRAIN\" , transform=transform)\n",
    "# valid_ds = ImageFolder(\"/content/drive/MyDrive/fold/VAL\" , transform=transform)\n",
    "# test_ds = ImageFolder(\"/content/drive/MyDrive/fold/TEST\" , transform=transform)"
   ]
  },
  {
   "cell_type": "code",
   "execution_count": 12,
   "metadata": {
    "colab": {
     "base_uri": "https://localhost:8080/"
    },
    "id": "DzebS4Z0IRSd",
    "outputId": "fba85a45-065c-4fdb-aa56-718a7ea6b552"
   },
   "outputs": [
    {
     "data": {
      "text/plain": [
       "(3243, 300, 68)"
      ]
     },
     "execution_count": 12,
     "metadata": {
      "tags": []
     },
     "output_type": "execute_result"
    }
   ],
   "source": [
    "len(train_ds), len(valid_ds), len(test_ds)"
   ]
  },
  {
   "cell_type": "code",
   "execution_count": 13,
   "metadata": {
    "id": "0vTnSSodIox4"
   },
   "outputs": [],
   "source": [
    "batch_size = 400"
   ]
  },
  {
   "cell_type": "code",
   "execution_count": 14,
   "metadata": {
    "id": "70h3XsWlIg_X"
   },
   "outputs": [],
   "source": [
    "train_dl = DataLoader(train_ds, batch_size, shuffle=True, num_workers=4, pin_memory=True)\n",
    "valid_dl = DataLoader(valid_ds, batch_size, num_workers=4, pin_memory=True)\n",
    "test_dl = DataLoader(test_ds, batch_size, num_workers=4, pin_memory=True)"
   ]
  },
  {
   "cell_type": "code",
   "execution_count": 15,
   "metadata": {
    "colab": {
     "base_uri": "https://localhost:8080/"
    },
    "id": "ENOQ3h-JMQ5B",
    "outputId": "d3063a90-d0f0-49a4-e41a-b3913d2a6eea"
   },
   "outputs": [
    {
     "data": {
      "text/plain": [
       "{'box': 0, 'chevron': 1, 'rounded': 2}"
      ]
     },
     "execution_count": 15,
     "metadata": {
      "tags": []
     },
     "output_type": "execute_result"
    }
   ],
   "source": [
    "train_ds.class_to_idx"
   ]
  },
  {
   "cell_type": "code",
   "execution_count": 16,
   "metadata": {
    "colab": {
     "base_uri": "https://localhost:8080/"
    },
    "id": "MK1uiSmDMXm4",
    "outputId": "44939c46-8dc6-46d6-fdb8-e62e0cb07948"
   },
   "outputs": [
    {
     "data": {
      "text/plain": [
       "{'box': 0, 'chevron': 1, 'rounded': 2}"
      ]
     },
     "execution_count": 16,
     "metadata": {
      "tags": []
     },
     "output_type": "execute_result"
    }
   ],
   "source": [
    "valid_ds.class_to_idx"
   ]
  },
  {
   "cell_type": "code",
   "execution_count": 17,
   "metadata": {
    "colab": {
     "base_uri": "https://localhost:8080/"
    },
    "id": "UYLWHtGOMXyu",
    "outputId": "0ff8ee21-0bce-41b7-862a-17a6c9889dc6"
   },
   "outputs": [
    {
     "data": {
      "text/plain": [
       "{'box': 0, 'chevron': 1, 'rounded': 2}"
      ]
     },
     "execution_count": 17,
     "metadata": {
      "tags": []
     },
     "output_type": "execute_result"
    }
   ],
   "source": [
    "test_ds.class_to_idx"
   ]
  },
  {
   "cell_type": "code",
   "execution_count": 18,
   "metadata": {
    "id": "WJHDWtpLIkSS"
   },
   "outputs": [],
   "source": [
    "import matplotlib\n",
    "import matplotlib.pyplot as plt\n",
    "%matplotlib inline\n",
    "\n",
    "matplotlib.rcParams['figure.facecolor'] = '#ffffff'"
   ]
  },
  {
   "cell_type": "code",
   "execution_count": 19,
   "metadata": {
    "id": "yJu9V_TxIvVV"
   },
   "outputs": [],
   "source": [
    "def get_default_device():\n",
    "    \"\"\"Pick GPU if available, else CPU\"\"\"\n",
    "    if torch.cuda.is_available():\n",
    "        return torch.device('cuda')\n",
    "    else:\n",
    "        return torch.device('cpu')\n",
    "    \n",
    "def to_device(data, device):\n",
    "    \"\"\"Move tensor(s) to chosen device\"\"\"\n",
    "    if isinstance(data, (list,tuple)):\n",
    "        return [to_device(x, device) for x in data]\n",
    "    return data.to(device, non_blocking=True)\n",
    "\n",
    "class DeviceDataLoader():\n",
    "    \"\"\"Wrap a dataloader to move data to a device\"\"\"\n",
    "    def __init__(self, dl, device):\n",
    "        self.dl = dl\n",
    "        self.device = device\n",
    "        \n",
    "    def __iter__(self):\n",
    "        \"\"\"Yield a batch of data after moving it to device\"\"\"\n",
    "        for b in self.dl: \n",
    "            yield to_device(b, self.device)\n",
    "\n",
    "    def __len__(self):\n",
    "        \"\"\"Number of batches\"\"\"\n",
    "        return len(self.dl)"
   ]
  },
  {
   "cell_type": "code",
   "execution_count": 20,
   "metadata": {
    "colab": {
     "base_uri": "https://localhost:8080/"
    },
    "id": "3uwZ2WtqI1cX",
    "outputId": "e4497a56-78c6-4e14-8430-3b3e79d83b50"
   },
   "outputs": [
    {
     "data": {
      "text/plain": [
       "device(type='cpu')"
      ]
     },
     "execution_count": 20,
     "metadata": {
      "tags": []
     },
     "output_type": "execute_result"
    }
   ],
   "source": [
    "device = get_default_device()\n",
    "device"
   ]
  },
  {
   "cell_type": "code",
   "execution_count": 21,
   "metadata": {
    "id": "iYNoMVhzI4Oc"
   },
   "outputs": [],
   "source": [
    "class FoldsClassification(nn.Module):\n",
    "    def training_step(self, batch):\n",
    "        images, labels = batch \n",
    "        out = self(images)                  # Generate predictions\n",
    "        loss = F.cross_entropy(out, labels) # Calculate loss\n",
    "        return loss\n",
    "    \n",
    "    def validation_step(self, batch):\n",
    "        images, labels = batch \n",
    "        out = self(images)                    # Generate predictions\n",
    "        loss = F.cross_entropy(out, labels)   # Calculate loss\n",
    "        acc = accuracy(out, labels)           # Calculate accuracy\n",
    "        return {'val_loss': loss.detach(), 'val_acc': acc}\n",
    "        \n",
    "    def validation_epoch_end(self, outputs):\n",
    "        batch_losses = [x['val_loss'] for x in outputs]\n",
    "        epoch_loss = torch.stack(batch_losses).mean()   # Combine losses\n",
    "        batch_accs = [x['val_acc'] for x in outputs]\n",
    "        epoch_acc = torch.stack(batch_accs).mean()      # Combine accuracies\n",
    "        return {'val_loss': epoch_loss.item(), 'val_acc': epoch_acc.item()}\n",
    "    \n",
    "    def epoch_end(self, epoch, result):\n",
    "        print(\"Epoch [{}], train_loss: {:.4f}, val_loss: {:.4f}, val_acc: {:.4f}\".format(\n",
    "            epoch, result['train_loss'], result['val_loss'], result['val_acc']))\n",
    "        \n",
    "def accuracy(outputs, labels):\n",
    "    _, preds = torch.max(outputs, dim=1)\n",
    "    return torch.tensor(torch.sum(preds == labels).item() / len(preds))"
   ]
  },
  {
   "cell_type": "code",
   "execution_count": 22,
   "metadata": {
    "id": "cOdRGYzwI_Rv"
   },
   "outputs": [],
   "source": [
    "from torchvision import models\n",
    "class FoldsModel(FoldsClassification):\n",
    "    def __init__(self):\n",
    "        super().__init__()\n",
    "        self.network = nn.Sequential(\n",
    "            nn.Conv2d(3, 32, kernel_size=3, padding=1),\n",
    "            nn.ReLU(),\n",
    "            nn.Conv2d(32, 64, kernel_size=3, stride=1, padding=1),\n",
    "            nn.ReLU(),\n",
    "            nn.MaxPool2d(2, 2), # output: 64 x 64 x 64\n",
    "\n",
    "            nn.Conv2d(64, 128, kernel_size=3, stride=1, padding=1),\n",
    "            nn.ReLU(),\n",
    "            nn.Conv2d(128, 128, kernel_size=3, stride=1, padding=1),\n",
    "            nn.ReLU(),\n",
    "            nn.MaxPool2d(2, 2), # output: 128 x 32 x 32\n",
    "\n",
    "            nn.Conv2d(128, 256, kernel_size=3, stride=1, padding=1),\n",
    "            nn.ReLU(),\n",
    "            nn.Conv2d(256, 256, kernel_size=3, stride=1, padding=1),\n",
    "            nn.ReLU(),\n",
    "            nn.MaxPool2d(2, 2), # output: 256 x 16 x 16\n",
    "\n",
    "            nn.Flatten(), \n",
    "            nn.Linear(256*4*4, 1024),\n",
    "            nn.ReLU(),\n",
    "            nn.Linear(1024, 512),\n",
    "            nn.ReLU(),\n",
    "            nn.Linear(512, 3))\n",
    "\n",
    "    def forward(self, xb):\n",
    "        return self.network(xb)"
   ]
  },
  {
   "cell_type": "code",
   "execution_count": 23,
   "metadata": {
    "colab": {
     "base_uri": "https://localhost:8080/"
    },
    "id": "QbpjUtzgJFYj",
    "outputId": "d617fbfc-38f4-4a25-9617-972d18a1c44c"
   },
   "outputs": [
    {
     "data": {
      "text/plain": [
       "FoldsModel(\n",
       "  (network): Sequential(\n",
       "    (0): Conv2d(3, 32, kernel_size=(3, 3), stride=(1, 1), padding=(1, 1))\n",
       "    (1): ReLU()\n",
       "    (2): Conv2d(32, 64, kernel_size=(3, 3), stride=(1, 1), padding=(1, 1))\n",
       "    (3): ReLU()\n",
       "    (4): MaxPool2d(kernel_size=2, stride=2, padding=0, dilation=1, ceil_mode=False)\n",
       "    (5): Conv2d(64, 128, kernel_size=(3, 3), stride=(1, 1), padding=(1, 1))\n",
       "    (6): ReLU()\n",
       "    (7): Conv2d(128, 128, kernel_size=(3, 3), stride=(1, 1), padding=(1, 1))\n",
       "    (8): ReLU()\n",
       "    (9): MaxPool2d(kernel_size=2, stride=2, padding=0, dilation=1, ceil_mode=False)\n",
       "    (10): Conv2d(128, 256, kernel_size=(3, 3), stride=(1, 1), padding=(1, 1))\n",
       "    (11): ReLU()\n",
       "    (12): Conv2d(256, 256, kernel_size=(3, 3), stride=(1, 1), padding=(1, 1))\n",
       "    (13): ReLU()\n",
       "    (14): MaxPool2d(kernel_size=2, stride=2, padding=0, dilation=1, ceil_mode=False)\n",
       "    (15): Flatten(start_dim=1, end_dim=-1)\n",
       "    (16): Linear(in_features=4096, out_features=1024, bias=True)\n",
       "    (17): ReLU()\n",
       "    (18): Linear(in_features=1024, out_features=512, bias=True)\n",
       "    (19): ReLU()\n",
       "    (20): Linear(in_features=512, out_features=3, bias=True)\n",
       "  )\n",
       ")"
      ]
     },
     "execution_count": 23,
     "metadata": {
      "tags": []
     },
     "output_type": "execute_result"
    }
   ],
   "source": [
    "model = FoldsModel()\n",
    "model"
   ]
  },
  {
   "cell_type": "code",
   "execution_count": 24,
   "metadata": {
    "colab": {
     "base_uri": "https://localhost:8080/"
    },
    "id": "YMdB3F7pJIRP",
    "outputId": "0f4ff0e6-3b20-4928-b478-a8b270934b45"
   },
   "outputs": [
    {
     "name": "stdout",
     "output_type": "stream",
     "text": [
      "images.shape: torch.Size([400, 3, 32, 32])\n",
      "out.shape: torch.Size([400, 3])\n",
      "out[0]: tensor([0.0393, 0.0194, 0.0108], grad_fn=<SelectBackward>)\n"
     ]
    }
   ],
   "source": [
    "for images, labels in train_dl:\n",
    "    print('images.shape:', images.shape)\n",
    "    out = model(images)\n",
    "    print('out.shape:', out.shape)\n",
    "    print('out[0]:', out[0])\n",
    "    break"
   ]
  },
  {
   "cell_type": "code",
   "execution_count": 25,
   "metadata": {
    "id": "eE4sSSUhJPDL"
   },
   "outputs": [],
   "source": [
    "def get_default_device():\n",
    "    \"\"\"Pick GPU if available, else CPU\"\"\"\n",
    "    if torch.cuda.is_available():\n",
    "        return torch.device('cuda')\n",
    "    else:\n",
    "        return torch.device('cpu')\n",
    "    \n",
    "def to_device(data, device):\n",
    "    \"\"\"Move tensor(s) to chosen device\"\"\"\n",
    "    if isinstance(data, (list,tuple)):\n",
    "        return [to_device(x, device) for x in data]\n",
    "    return data.to(device, non_blocking=True)\n",
    "\n",
    "class DeviceDataLoader():\n",
    "    \"\"\"Wrap a dataloader to move data to a device\"\"\"\n",
    "    def __init__(self, dl, device):\n",
    "        self.dl = dl\n",
    "        self.device = device\n",
    "        \n",
    "    def __iter__(self):\n",
    "        \"\"\"Yield a batch of data after moving it to device\"\"\"\n",
    "        for b in self.dl: \n",
    "            yield to_device(b, self.device)\n",
    "\n",
    "    def __len__(self):\n",
    "        \"\"\"Number of batches\"\"\"\n",
    "        return len(self.dl)"
   ]
  },
  {
   "cell_type": "code",
   "execution_count": 26,
   "metadata": {
    "colab": {
     "base_uri": "https://localhost:8080/"
    },
    "id": "Iz2XFsUEJXSG",
    "outputId": "b389c8f5-d0a8-4b87-f253-59bad7c4da17"
   },
   "outputs": [
    {
     "data": {
      "text/plain": [
       "device(type='cpu')"
      ]
     },
     "execution_count": 26,
     "metadata": {
      "tags": []
     },
     "output_type": "execute_result"
    }
   ],
   "source": [
    "device = get_default_device()\n",
    "device"
   ]
  },
  {
   "cell_type": "code",
   "execution_count": 27,
   "metadata": {
    "id": "prq04vtbJbM-"
   },
   "outputs": [],
   "source": [
    "train_dl = DeviceDataLoader(train_dl, device)\n",
    "valid_dl = DeviceDataLoader(valid_dl, device)\n",
    "test_dl = DeviceDataLoader(test_dl, device)\n",
    "to_device(model, device);"
   ]
  },
  {
   "cell_type": "code",
   "execution_count": 28,
   "metadata": {
    "id": "TBtzwqleJbTF"
   },
   "outputs": [],
   "source": [
    "@torch.no_grad()\n",
    "def evaluate(model, val_loader):\n",
    "    model.eval()\n",
    "    outputs = [model.validation_step(batch) for batch in val_loader]\n",
    "    return model.validation_epoch_end(outputs)\n",
    "\n",
    "def fit(epochs, lr, model, train_loader, val_loader, opt_func=torch.optim.SGD):\n",
    "    history = []\n",
    "    optimizer = opt_func(model.parameters(), lr)\n",
    "    for epoch in range(epochs):\n",
    "        # Training Phase \n",
    "        model.train()\n",
    "        train_losses = []\n",
    "        for batch in train_loader:\n",
    "            loss = model.training_step(batch)\n",
    "            train_losses.append(loss)\n",
    "            loss.backward()\n",
    "            optimizer.step()\n",
    "            optimizer.zero_grad()\n",
    "        # Validation phase\n",
    "        result = evaluate(model, val_loader)\n",
    "        result['train_loss'] = torch.stack(train_losses).mean().item()\n",
    "        model.epoch_end(epoch, result)\n",
    "        history.append(result)\n",
    "    return history"
   ]
  },
  {
   "cell_type": "code",
   "execution_count": 29,
   "metadata": {
    "id": "y4BTERU-Jbbc"
   },
   "outputs": [],
   "source": [
    "model = to_device(FoldsModel(), device)"
   ]
  },
  {
   "cell_type": "code",
   "execution_count": 30,
   "metadata": {
    "colab": {
     "base_uri": "https://localhost:8080/"
    },
    "id": "ABY7e5xZJbgo",
    "outputId": "8693d658-020e-4edb-b1d9-fa06aedb528d"
   },
   "outputs": [
    {
     "data": {
      "text/plain": [
       "{'val_acc': 0.3333333432674408, 'val_loss': 1.098720669746399}"
      ]
     },
     "execution_count": 30,
     "metadata": {
      "tags": []
     },
     "output_type": "execute_result"
    }
   ],
   "source": [
    "evaluate(model, valid_dl)"
   ]
  },
  {
   "cell_type": "code",
   "execution_count": 31,
   "metadata": {
    "id": "6hljESUNJbk7"
   },
   "outputs": [],
   "source": [
    "num_epochs = 180\n",
    "opt_func = torch.optim.Adam\n",
    "lr = 0.0007"
   ]
  },
  {
   "cell_type": "code",
   "execution_count": 32,
   "metadata": {
    "colab": {
     "base_uri": "https://localhost:8080/"
    },
    "id": "t2Wj4K-RJbp0",
    "outputId": "83bc1db1-3a5e-4313-f852-07dbab31137d"
   },
   "outputs": [
    {
     "name": "stdout",
     "output_type": "stream",
     "text": [
      "Epoch [0], train_loss: 1.1094, val_loss: 1.0975, val_acc: 0.3867\n",
      "Epoch [1], train_loss: 1.0749, val_loss: 1.0994, val_acc: 0.3267\n",
      "Epoch [2], train_loss: 0.9866, val_loss: 1.5442, val_acc: 0.3267\n",
      "Epoch [3], train_loss: 0.8570, val_loss: 1.2411, val_acc: 0.3133\n",
      "Epoch [4], train_loss: 0.7464, val_loss: 1.5025, val_acc: 0.3267\n",
      "Epoch [5], train_loss: 0.7323, val_loss: 1.3101, val_acc: 0.3067\n",
      "Epoch [6], train_loss: 0.6739, val_loss: 1.2365, val_acc: 0.3067\n",
      "Epoch [7], train_loss: 0.5383, val_loss: 1.2075, val_acc: 0.3267\n",
      "Epoch [8], train_loss: 0.4687, val_loss: 1.1927, val_acc: 0.3367\n",
      "Epoch [9], train_loss: 0.4705, val_loss: 1.2281, val_acc: 0.3300\n",
      "Epoch [10], train_loss: 0.3976, val_loss: 1.2130, val_acc: 0.3333\n",
      "Epoch [11], train_loss: 0.4024, val_loss: 1.3408, val_acc: 0.2900\n",
      "Epoch [12], train_loss: 0.4504, val_loss: 1.2823, val_acc: 0.3333\n",
      "Epoch [13], train_loss: 0.3946, val_loss: 1.1961, val_acc: 0.3367\n",
      "Epoch [14], train_loss: 0.3432, val_loss: 1.2434, val_acc: 0.3633\n",
      "Epoch [15], train_loss: 0.3131, val_loss: 1.1864, val_acc: 0.3300\n",
      "Epoch [16], train_loss: 0.3150, val_loss: 1.1939, val_acc: 0.3467\n",
      "Epoch [17], train_loss: 0.3069, val_loss: 1.2741, val_acc: 0.3400\n",
      "Epoch [18], train_loss: 0.2764, val_loss: 1.2287, val_acc: 0.3967\n",
      "Epoch [19], train_loss: 0.2831, val_loss: 1.1728, val_acc: 0.3833\n",
      "Epoch [20], train_loss: 0.2667, val_loss: 1.2047, val_acc: 0.3733\n",
      "Epoch [21], train_loss: 0.2686, val_loss: 1.1366, val_acc: 0.3500\n",
      "Epoch [22], train_loss: 0.2551, val_loss: 1.0591, val_acc: 0.4200\n",
      "Epoch [23], train_loss: 0.2408, val_loss: 1.1356, val_acc: 0.3900\n",
      "Epoch [24], train_loss: 0.2223, val_loss: 1.1305, val_acc: 0.3733\n",
      "Epoch [25], train_loss: 0.2155, val_loss: 1.1846, val_acc: 0.3367\n",
      "Epoch [26], train_loss: 0.2075, val_loss: 1.1983, val_acc: 0.3467\n",
      "Epoch [27], train_loss: 0.2289, val_loss: 1.0563, val_acc: 0.4400\n",
      "Epoch [28], train_loss: 0.2218, val_loss: 1.1618, val_acc: 0.4333\n",
      "Epoch [29], train_loss: 0.2145, val_loss: 1.1997, val_acc: 0.3767\n",
      "Epoch [30], train_loss: 0.2086, val_loss: 1.1900, val_acc: 0.4133\n",
      "Epoch [31], train_loss: 0.2035, val_loss: 1.1045, val_acc: 0.4300\n",
      "Epoch [32], train_loss: 0.1787, val_loss: 1.0985, val_acc: 0.4700\n",
      "Epoch [33], train_loss: 0.1842, val_loss: 1.0956, val_acc: 0.4300\n",
      "Epoch [34], train_loss: 0.1827, val_loss: 1.0482, val_acc: 0.4200\n",
      "Epoch [35], train_loss: 0.1838, val_loss: 1.1684, val_acc: 0.4700\n",
      "Epoch [36], train_loss: 0.1841, val_loss: 1.0920, val_acc: 0.4933\n",
      "Epoch [37], train_loss: 0.1893, val_loss: 1.1300, val_acc: 0.4200\n",
      "Epoch [38], train_loss: 0.1940, val_loss: 1.2602, val_acc: 0.4533\n",
      "Epoch [39], train_loss: 0.1692, val_loss: 1.0471, val_acc: 0.4833\n",
      "Epoch [40], train_loss: 0.1592, val_loss: 1.2015, val_acc: 0.4633\n",
      "Epoch [41], train_loss: 0.1653, val_loss: 1.0834, val_acc: 0.4900\n",
      "Epoch [42], train_loss: 0.1598, val_loss: 1.0542, val_acc: 0.4867\n",
      "Epoch [43], train_loss: 0.1412, val_loss: 1.1559, val_acc: 0.4167\n",
      "Epoch [44], train_loss: 0.1648, val_loss: 1.0192, val_acc: 0.4933\n",
      "Epoch [45], train_loss: 0.1527, val_loss: 1.3114, val_acc: 0.4900\n",
      "Epoch [46], train_loss: 0.2000, val_loss: 1.3197, val_acc: 0.4467\n",
      "Epoch [47], train_loss: 0.1625, val_loss: 1.1062, val_acc: 0.5067\n",
      "Epoch [48], train_loss: 0.1486, val_loss: 1.0596, val_acc: 0.5133\n",
      "Epoch [49], train_loss: 0.1465, val_loss: 1.2049, val_acc: 0.5067\n",
      "Epoch [50], train_loss: 0.1568, val_loss: 1.1083, val_acc: 0.5067\n",
      "Epoch [51], train_loss: 0.1393, val_loss: 1.4015, val_acc: 0.4967\n",
      "Epoch [52], train_loss: 0.1593, val_loss: 0.9720, val_acc: 0.5200\n",
      "Epoch [53], train_loss: 0.1636, val_loss: 1.1160, val_acc: 0.5067\n",
      "Epoch [54], train_loss: 0.1531, val_loss: 1.0010, val_acc: 0.5500\n",
      "Epoch [55], train_loss: 0.1784, val_loss: 1.1409, val_acc: 0.4900\n",
      "Epoch [56], train_loss: 0.2027, val_loss: 1.2448, val_acc: 0.3867\n",
      "Epoch [57], train_loss: 0.1965, val_loss: 0.9973, val_acc: 0.5167\n",
      "Epoch [58], train_loss: 0.1385, val_loss: 1.0390, val_acc: 0.5433\n",
      "Epoch [59], train_loss: 0.1324, val_loss: 1.0798, val_acc: 0.5467\n",
      "Epoch [60], train_loss: 0.1465, val_loss: 1.0468, val_acc: 0.5500\n",
      "Epoch [61], train_loss: 0.1245, val_loss: 1.1001, val_acc: 0.5133\n",
      "Epoch [62], train_loss: 0.1173, val_loss: 0.9896, val_acc: 0.5500\n",
      "Epoch [63], train_loss: 0.1140, val_loss: 1.1032, val_acc: 0.5300\n",
      "Epoch [64], train_loss: 0.1160, val_loss: 1.1103, val_acc: 0.5700\n",
      "Epoch [65], train_loss: 0.0995, val_loss: 1.1562, val_acc: 0.5533\n",
      "Epoch [66], train_loss: 0.1042, val_loss: 1.0814, val_acc: 0.5567\n",
      "Epoch [67], train_loss: 0.0941, val_loss: 1.1641, val_acc: 0.5333\n",
      "Epoch [68], train_loss: 0.0946, val_loss: 1.1628, val_acc: 0.5833\n",
      "Epoch [69], train_loss: 0.1025, val_loss: 1.0678, val_acc: 0.5400\n",
      "Epoch [70], train_loss: 0.1007, val_loss: 1.2549, val_acc: 0.5800\n",
      "Epoch [71], train_loss: 0.1110, val_loss: 1.4195, val_acc: 0.5533\n",
      "Epoch [72], train_loss: 0.1099, val_loss: 0.9900, val_acc: 0.6033\n",
      "Epoch [73], train_loss: 0.1034, val_loss: 1.0888, val_acc: 0.5933\n",
      "Epoch [74], train_loss: 0.0896, val_loss: 0.9447, val_acc: 0.5867\n",
      "Epoch [75], train_loss: 0.0870, val_loss: 1.3366, val_acc: 0.6067\n",
      "Epoch [76], train_loss: 0.0875, val_loss: 1.2856, val_acc: 0.6067\n",
      "Epoch [77], train_loss: 0.0937, val_loss: 1.0246, val_acc: 0.5500\n",
      "Epoch [78], train_loss: 0.0800, val_loss: 1.0522, val_acc: 0.5867\n",
      "Epoch [79], train_loss: 0.0749, val_loss: 1.1314, val_acc: 0.5900\n",
      "Epoch [80], train_loss: 0.0794, val_loss: 1.2149, val_acc: 0.6000\n",
      "Epoch [81], train_loss: 0.1019, val_loss: 1.1731, val_acc: 0.6033\n",
      "Epoch [82], train_loss: 0.0880, val_loss: 1.0327, val_acc: 0.5767\n",
      "Epoch [83], train_loss: 0.1073, val_loss: 1.0618, val_acc: 0.6033\n",
      "Epoch [84], train_loss: 0.0986, val_loss: 1.0682, val_acc: 0.6100\n",
      "Epoch [85], train_loss: 0.1161, val_loss: 1.0811, val_acc: 0.5900\n",
      "Epoch [86], train_loss: 0.1047, val_loss: 1.1198, val_acc: 0.6233\n",
      "Epoch [87], train_loss: 0.0969, val_loss: 1.1367, val_acc: 0.5933\n",
      "Epoch [88], train_loss: 0.0919, val_loss: 1.1600, val_acc: 0.6133\n",
      "Epoch [89], train_loss: 0.0753, val_loss: 1.1864, val_acc: 0.6067\n",
      "Epoch [90], train_loss: 0.0804, val_loss: 1.3432, val_acc: 0.6100\n",
      "Epoch [91], train_loss: 0.0811, val_loss: 1.0522, val_acc: 0.5900\n",
      "Epoch [92], train_loss: 0.1196, val_loss: 1.0648, val_acc: 0.5733\n",
      "Epoch [93], train_loss: 0.1075, val_loss: 1.3342, val_acc: 0.5767\n",
      "Epoch [94], train_loss: 0.0942, val_loss: 0.9755, val_acc: 0.6033\n",
      "Epoch [95], train_loss: 0.0753, val_loss: 1.0367, val_acc: 0.6200\n",
      "Epoch [96], train_loss: 0.0741, val_loss: 1.0925, val_acc: 0.6567\n",
      "Epoch [97], train_loss: 0.0669, val_loss: 1.1198, val_acc: 0.6333\n",
      "Epoch [98], train_loss: 0.0815, val_loss: 1.1106, val_acc: 0.6200\n",
      "Epoch [99], train_loss: 0.0687, val_loss: 0.9968, val_acc: 0.6167\n",
      "Epoch [100], train_loss: 0.0596, val_loss: 1.1377, val_acc: 0.6400\n",
      "Epoch [101], train_loss: 0.0536, val_loss: 1.1481, val_acc: 0.6533\n",
      "Epoch [102], train_loss: 0.0499, val_loss: 1.2481, val_acc: 0.6633\n",
      "Epoch [103], train_loss: 0.0556, val_loss: 1.2089, val_acc: 0.6300\n",
      "Epoch [104], train_loss: 0.0529, val_loss: 1.0821, val_acc: 0.6567\n",
      "Epoch [105], train_loss: 0.0488, val_loss: 1.0790, val_acc: 0.6867\n",
      "Epoch [106], train_loss: 0.0449, val_loss: 1.2588, val_acc: 0.6533\n",
      "Epoch [107], train_loss: 0.0403, val_loss: 1.4148, val_acc: 0.6633\n",
      "Epoch [108], train_loss: 0.0534, val_loss: 1.4229, val_acc: 0.6567\n",
      "Epoch [109], train_loss: 0.0671, val_loss: 1.7092, val_acc: 0.5933\n",
      "Epoch [110], train_loss: 0.0797, val_loss: 1.0830, val_acc: 0.6433\n",
      "Epoch [111], train_loss: 0.0754, val_loss: 1.0226, val_acc: 0.6367\n",
      "Epoch [112], train_loss: 0.0678, val_loss: 1.0795, val_acc: 0.6400\n",
      "Epoch [113], train_loss: 0.0488, val_loss: 1.1325, val_acc: 0.6633\n",
      "Epoch [114], train_loss: 0.0463, val_loss: 1.2189, val_acc: 0.6733\n",
      "Epoch [115], train_loss: 0.0496, val_loss: 1.1722, val_acc: 0.6500\n",
      "Epoch [116], train_loss: 0.0368, val_loss: 1.4812, val_acc: 0.6500\n",
      "Epoch [117], train_loss: 0.0400, val_loss: 1.0895, val_acc: 0.6800\n",
      "Epoch [118], train_loss: 0.0380, val_loss: 1.1605, val_acc: 0.6667\n",
      "Epoch [119], train_loss: 0.0566, val_loss: 1.3288, val_acc: 0.6367\n",
      "Epoch [120], train_loss: 0.0797, val_loss: 1.5959, val_acc: 0.6167\n",
      "Epoch [121], train_loss: 0.0809, val_loss: 1.0563, val_acc: 0.6533\n",
      "Epoch [122], train_loss: 0.0743, val_loss: 1.0509, val_acc: 0.6600\n",
      "Epoch [123], train_loss: 0.0526, val_loss: 1.1672, val_acc: 0.6700\n",
      "Epoch [124], train_loss: 0.0485, val_loss: 1.0033, val_acc: 0.6733\n",
      "Epoch [125], train_loss: 0.0341, val_loss: 1.1257, val_acc: 0.6700\n",
      "Epoch [126], train_loss: 0.0413, val_loss: 1.2832, val_acc: 0.6500\n",
      "Epoch [127], train_loss: 0.0349, val_loss: 1.2765, val_acc: 0.6633\n",
      "Epoch [128], train_loss: 0.0634, val_loss: 1.1884, val_acc: 0.6567\n",
      "Epoch [129], train_loss: 0.0638, val_loss: 1.0058, val_acc: 0.6600\n",
      "Epoch [130], train_loss: 0.0481, val_loss: 1.2273, val_acc: 0.6400\n",
      "Epoch [131], train_loss: 0.0424, val_loss: 1.3548, val_acc: 0.6567\n",
      "Epoch [132], train_loss: 0.0398, val_loss: 1.5610, val_acc: 0.6533\n",
      "Epoch [133], train_loss: 0.0417, val_loss: 1.3705, val_acc: 0.6633\n",
      "Epoch [134], train_loss: 0.0582, val_loss: 1.3529, val_acc: 0.6600\n",
      "Epoch [135], train_loss: 0.0581, val_loss: 1.1760, val_acc: 0.6767\n",
      "Epoch [136], train_loss: 0.0417, val_loss: 1.3290, val_acc: 0.6733\n",
      "Epoch [137], train_loss: 0.0408, val_loss: 1.3923, val_acc: 0.6600\n",
      "Epoch [138], train_loss: 0.0373, val_loss: 1.4179, val_acc: 0.6533\n",
      "Epoch [139], train_loss: 0.0335, val_loss: 1.3998, val_acc: 0.6233\n",
      "Epoch [140], train_loss: 0.0311, val_loss: 1.7931, val_acc: 0.6100\n",
      "Epoch [141], train_loss: 0.0365, val_loss: 1.6158, val_acc: 0.6633\n",
      "Epoch [142], train_loss: 0.0288, val_loss: 1.3583, val_acc: 0.6900\n",
      "Epoch [143], train_loss: 0.0252, val_loss: 1.3852, val_acc: 0.6567\n",
      "Epoch [144], train_loss: 0.0283, val_loss: 1.6448, val_acc: 0.6400\n",
      "Epoch [145], train_loss: 0.0273, val_loss: 1.7215, val_acc: 0.6633\n",
      "Epoch [146], train_loss: 0.0297, val_loss: 1.4108, val_acc: 0.6867\n",
      "Epoch [147], train_loss: 0.0409, val_loss: 1.4324, val_acc: 0.6733\n",
      "Epoch [148], train_loss: 0.0435, val_loss: 1.3969, val_acc: 0.6433\n",
      "Epoch [149], train_loss: 0.0554, val_loss: 1.1486, val_acc: 0.6933\n",
      "Epoch [150], train_loss: 0.0435, val_loss: 1.2874, val_acc: 0.6633\n",
      "Epoch [151], train_loss: 0.0395, val_loss: 1.3648, val_acc: 0.6467\n",
      "Epoch [152], train_loss: 0.0294, val_loss: 1.3757, val_acc: 0.6733\n",
      "Epoch [153], train_loss: 0.0282, val_loss: 1.4550, val_acc: 0.6733\n",
      "Epoch [154], train_loss: 0.0246, val_loss: 1.4003, val_acc: 0.6933\n",
      "Epoch [155], train_loss: 0.0230, val_loss: 1.3830, val_acc: 0.6667\n",
      "Epoch [156], train_loss: 0.0228, val_loss: 1.3853, val_acc: 0.6700\n",
      "Epoch [157], train_loss: 0.0254, val_loss: 1.7956, val_acc: 0.6433\n",
      "Epoch [158], train_loss: 0.0356, val_loss: 1.7780, val_acc: 0.6133\n",
      "Epoch [159], train_loss: 0.0402, val_loss: 1.3172, val_acc: 0.6733\n",
      "Epoch [160], train_loss: 0.0363, val_loss: 1.1437, val_acc: 0.6767\n",
      "Epoch [161], train_loss: 0.0250, val_loss: 1.4212, val_acc: 0.6333\n",
      "Epoch [162], train_loss: 0.0222, val_loss: 1.2212, val_acc: 0.6800\n",
      "Epoch [163], train_loss: 0.0185, val_loss: 1.5407, val_acc: 0.6700\n",
      "Epoch [164], train_loss: 0.0200, val_loss: 1.3436, val_acc: 0.6867\n",
      "Epoch [165], train_loss: 0.0260, val_loss: 1.6539, val_acc: 0.6533\n",
      "Epoch [166], train_loss: 0.0178, val_loss: 1.4161, val_acc: 0.6600\n",
      "Epoch [167], train_loss: 0.0134, val_loss: 1.5332, val_acc: 0.6733\n",
      "Epoch [168], train_loss: 0.0179, val_loss: 1.6632, val_acc: 0.6833\n",
      "Epoch [169], train_loss: 0.0135, val_loss: 1.6847, val_acc: 0.6467\n",
      "Epoch [170], train_loss: 0.0110, val_loss: 1.7680, val_acc: 0.6700\n",
      "Epoch [171], train_loss: 0.0138, val_loss: 1.6456, val_acc: 0.6667\n",
      "Epoch [172], train_loss: 0.0131, val_loss: 1.6924, val_acc: 0.6900\n",
      "Epoch [173], train_loss: 0.0114, val_loss: 1.7647, val_acc: 0.6900\n",
      "Epoch [174], train_loss: 0.0141, val_loss: 1.7954, val_acc: 0.6633\n",
      "Epoch [175], train_loss: 0.0096, val_loss: 1.7176, val_acc: 0.6867\n",
      "Epoch [176], train_loss: 0.0111, val_loss: 1.8034, val_acc: 0.6900\n",
      "Epoch [177], train_loss: 0.0123, val_loss: 1.7308, val_acc: 0.6767\n",
      "Epoch [178], train_loss: 0.0168, val_loss: 1.8101, val_acc: 0.6467\n",
      "Epoch [179], train_loss: 0.0589, val_loss: 1.9810, val_acc: 0.6600\n"
     ]
    }
   ],
   "source": [
    "history = fit(num_epochs, lr, model, train_dl, valid_dl, opt_func)"
   ]
  },
  {
   "cell_type": "code",
   "execution_count": 33,
   "metadata": {
    "id": "h2dJ3q5gJbtS"
   },
   "outputs": [],
   "source": [
    "def plot_accuracies(history):\n",
    "    accuracies = [x['val_acc'] for x in history]\n",
    "    plt.plot(accuracies, '-x')\n",
    "    plt.xlabel('epoch')\n",
    "    plt.ylabel('accuracy')\n",
    "    plt.title('Accuracy vs. No. of epochs');"
   ]
  },
  {
   "cell_type": "code",
   "execution_count": 34,
   "metadata": {
    "colab": {
     "base_uri": "https://localhost:8080/",
     "height": 301
    },
    "id": "Q5KugNesJbzC",
    "outputId": "30a4e178-6544-4e1b-8d31-5fa2c4e7241b"
   },
   "outputs": [
    {
     "data": {
      "image/png": "[encoded data removed]",
      "text/plain": [
       "<Figure size 432x288 with 1 Axes>"
      ]
     },
     "metadata": {
      "tags": []
     },
     "output_type": "display_data"
    }
   ],
   "source": [
    "plot_accuracies(history)"
   ]
  },
  {
   "cell_type": "code",
   "execution_count": 35,
   "metadata": {
    "id": "dskf8lzEJb5c"
   },
   "outputs": [],
   "source": [
    "def plot_losses(history):\n",
    "    train_losses = [x.get('train_loss') for x in history]\n",
    "    val_losses = [x['val_loss'] for x in history]\n",
    "    plt.plot(train_losses, '-bx')\n",
    "    plt.plot(val_losses, '-rx')\n",
    "    plt.xlabel('epoch')\n",
    "    plt.ylabel('loss')\n",
    "    plt.legend(['Training', 'Validation'])\n",
    "    plt.title('Loss vs. No. of epochs');"
   ]
  },
  {
   "cell_type": "code",
   "execution_count": 36,
   "metadata": {
    "colab": {
     "base_uri": "https://localhost:8080/",
     "height": 301
    },
    "id": "UKWBfsWDKC8c",
    "outputId": "8dda7c68-8e9d-4968-aa03-859033c74988"
   },
   "outputs": [
    {
     "data": {
      "image/png": "[encoded data removed]",
      "text/plain": [
       "<Figure size 432x288 with 1 Axes>"
      ]
     },
     "metadata": {
      "tags": []
     },
     "output_type": "display_data"
    }
   ],
   "source": [
    "plot_losses(history)"
   ]
  },
  {
   "cell_type": "code",
   "execution_count": 37,
   "metadata": {
    "id": "BJPa2s0WKDFg"
   },
   "outputs": [],
   "source": [
    "def predict_image(img, model):\n",
    "    # Convert to a batch of 1\n",
    "    xb = to_device(img.unsqueeze(0), device)\n",
    "    # Get predictions from model\n",
    "    yb = model(xb)\n",
    "    # Pick index with highest probability\n",
    "    _, preds  = torch.max(yb, dim=1)\n",
    "    # Retrieve the class label\n",
    "    return train_ds.classes[preds[0].item()]"
   ]
  },
  {
   "cell_type": "code",
   "execution_count": 38,
   "metadata": {
    "id": "5uWc0RmVKDPE"
   },
   "outputs": [],
   "source": [
    "def show_example(img, label):\n",
    "    print('Label: ', train_ds.classes[label], \"(\"+str(label)+\")\")\n",
    "    plt.imshow(img.permute(1, 2, 0))"
   ]
  },
  {
   "cell_type": "code",
   "execution_count": 39,
   "metadata": {
    "colab": {
     "base_uri": "https://localhost:8080/",
     "height": 302
    },
    "id": "ik5UqwgpKM4E",
    "outputId": "4030e720-27f1-47df-ac64-8323ea3c5caf"
   },
   "outputs": [
    {
     "name": "stderr",
     "output_type": "stream",
     "text": [
      "Clipping input data to the valid range for imshow with RGB data ([0..1] for floats or [0..255] for integers).\n"
     ]
    },
    {
     "name": "stdout",
     "output_type": "stream",
     "text": [
      "Label: box , Predicted: chevron\n"
     ]
    },
    {
     "data": {
      "image/png": "[encoded data removed]",
      "text/plain": [
       "<Figure size 432x288 with 1 Axes>"
      ]
     },
     "metadata": {
      "tags": []
     },
     "output_type": "display_data"
    }
   ],
   "source": [
    "img, label = test_ds[0]\n",
    "plt.imshow(img.permute(1, 2, 0))\n",
    "print('Label:', test_ds.classes[label], ', Predicted:', predict_image(img, model))"
   ]
  },
  {
   "cell_type": "code",
   "execution_count": 40,
   "metadata": {
    "colab": {
     "base_uri": "https://localhost:8080/"
    },
    "id": "ga472IqRKMzO",
    "outputId": "c29d5425-c30d-4151-c135-51a2d8c9a55a"
   },
   "outputs": [
    {
     "data": {
      "text/plain": [
       "{'val_acc': 0.529411792755127, 'val_loss': 2.1469438076019287}"
      ]
     },
     "execution_count": 40,
     "metadata": {
      "tags": []
     },
     "output_type": "execute_result"
    }
   ],
   "source": [
    "test_loader = DeviceDataLoader(DataLoader(test_ds, batch_size), device)\n",
    "result = evaluate(model, test_loader)\n",
    "result"
   ]
  },
  {
   "cell_type": "code",
   "execution_count": 40,
   "metadata": {
    "id": "PcQHJNN5KMr_"
   },
   "outputs": [],
   "source": []
  },
  {
   "cell_type": "code",
   "execution_count": 40,
   "metadata": {
    "id": "ASpbPHhNKMnp"
   },
   "outputs": [],
   "source": []
  }
 ],
 "metadata": {
  "accelerator": "GPU",
  "colab": {
   "collapsed_sections": [],
   "name": "28022021.ipynb",
   "provenance": []
  },
  "kernelspec": {
   "display_name": "Python 3 (ipykernel)",
   "language": "python",
   "name": "python3"
  },
  "language_info": {
   "codemirror_mode": {
    "name": "ipython",
    "version": 3
   },
   "file_extension": ".py",
   "mimetype": "text/x-python",
   "name": "python",
   "nbconvert_exporter": "python",
   "pygments_lexer": "ipython3",
   "version": "3.9.10"
  }
 },
 "nbformat": 4,
 "nbformat_minor": 1
}
