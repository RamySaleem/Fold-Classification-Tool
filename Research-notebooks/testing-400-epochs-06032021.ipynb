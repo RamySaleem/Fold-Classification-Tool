{
 "cells": [
  {
   "cell_type": "code",
   "execution_count": 1,
   "metadata": {
    "id": "hXeCaBfwH8mK"
   },
   "outputs": [],
   "source": [
    "import cv2\n",
    "import numpy as np\n",
    "import matplotlib.pyplot as plt\n",
    "import seaborn as sns; sns.set()\n",
    "from keras.datasets import cifar10\n",
    "from sklearn.preprocessing import OneHotEncoder\n",
    "from sklearn.metrics import confusion_matrix\n",
    "from keras.layers import Conv2D, MaxPool2D, Flatten, Dense, Dropout\n",
    "from keras.models import Sequential, load_model\n",
    "from keras.callbacks import EarlyStopping"
   ]
  },
  {
   "cell_type": "code",
   "execution_count": 2,
   "metadata": {
    "id": "jhiGVujXH99e"
   },
   "outputs": [],
   "source": [
    "import glob\n",
    "import os\n",
    "import torch\n",
    "import tarfile\n",
    "import imageio\n",
    "import tarfile\n",
    "import pandas as pd\n",
    "import numpy as np\n",
    "import torchvision\n",
    "from PIL import Image\n",
    "import seaborn as sns\n",
    "import torchvision.models as models\n",
    "import matplotlib.pyplot as plt\n",
    "from tqdm.notebook import tqdm\n",
    "import torchvision.transforms as T\n",
    "from sklearn.metrics import f1_score\n",
    "import torch.nn.functional as F\n",
    "import torch.nn as nn\n",
    "from torchvision.utils import make_grid\n",
    "import matplotlib\n",
    "%matplotlib inline\n",
    "import torchvision.transforms as transforms\n",
    "import torchvision.transforms as tt\n",
    "from torchvision.datasets.utils import download_url\n",
    "from torch.utils.data import Dataset, random_split, DataLoader\n",
    "from torchvision.datasets import ImageFolder\n",
    "from torchvision.transforms import ToTensor\n",
    "import tensorflow as tf\n",
    "from keras_preprocessing.image import ImageDataGenerator\n",
    "import torch.nn as nn\n",
    "import torch.nn.functional as F\n",
    "\n",
    "matplotlib.rcParams['figure.facecolor'] = '#ffffff'"
   ]
  },
  {
   "cell_type": "code",
   "execution_count": 3,
   "metadata": {
    "colab": {
     "base_uri": "https://localhost:8080/"
    },
    "id": "ztSqDxHVIE9s",
    "outputId": "7f22d52c-52a4-42d5-a041-fa85ab5ec9b3"
   },
   "outputs": [
    {
     "name": "stdout",
     "output_type": "stream",
     "text": [
      "Drive already mounted at /content/drive; to attempt to forcibly remount, call drive.mount(\"/content/drive\", force_remount=True).\n"
     ]
    }
   ],
   "source": [
    "from google.colab import drive\n",
    "drive.mount('/content/drive')"
   ]
  },
  {
   "cell_type": "code",
   "execution_count": 4,
   "metadata": {
    "colab": {
     "base_uri": "https://localhost:8080/"
    },
    "id": "_yFqCLqKIN99",
    "outputId": "218368a5-10b1-4990-a60a-7599208d4269"
   },
   "outputs": [
    {
     "name": "stdout",
     "output_type": "stream",
     "text": [
      "['TEST', 'VAL', 'TRAIN']\n",
      "['rounded', 'chevron', 'box']\n"
     ]
    }
   ],
   "source": [
    "train_dir = '/content/drive/MyDrive/fold'\n",
    "\n",
    "print(os.listdir(train_dir))\n",
    "classes = os.listdir(train_dir + \"/TRAIN\")\n",
    "print(classes)"
   ]
  },
  {
   "cell_type": "code",
   "execution_count": 5,
   "metadata": {
    "colab": {
     "base_uri": "https://localhost:8080/"
    },
    "id": "HK74L-xUIVCT",
    "outputId": "38f03ba3-3352-4580-9d8c-d4a402b964d0"
   },
   "outputs": [
    {
     "name": "stdout",
     "output_type": "stream",
     "text": [
      "['TEST', 'VAL', 'TRAIN']\n",
      "['chevron', 'box', 'rounded']\n"
     ]
    }
   ],
   "source": [
    "valid_dir = '/content/drive/MyDrive/fold'\n",
    "\n",
    "print(os.listdir(valid_dir))\n",
    "classes = os.listdir(valid_dir + \"/VAL\")\n",
    "print(classes)"
   ]
  },
  {
   "cell_type": "code",
   "execution_count": 6,
   "metadata": {
    "colab": {
     "base_uri": "https://localhost:8080/"
    },
    "id": "1NZbeKgsIU9o",
    "outputId": "33d450d3-1273-41e8-89b9-67599ce34b83"
   },
   "outputs": [
    {
     "name": "stdout",
     "output_type": "stream",
     "text": [
      "['TEST', 'VAL', 'TRAIN']\n",
      "['chevron', 'box', 'rounded']\n"
     ]
    }
   ],
   "source": [
    "test_dir = '/content/drive/MyDrive/fold'\n",
    "\n",
    "print(os.listdir(test_dir))\n",
    "classes = os.listdir(test_dir + \"/TEST\")\n",
    "print(classes)"
   ]
  },
  {
   "cell_type": "code",
   "execution_count": 7,
   "metadata": {
    "id": "4tzOWzUjIU4L"
   },
   "outputs": [],
   "source": [
    "# transform = transforms.Compose([transforms.Resize((32, 32)), \n",
    "#                                 transforms.Grayscale(num_output_channels=3),\n",
    "#                                 transforms.ToTensor()])"
   ]
  },
  {
   "cell_type": "code",
   "execution_count": 8,
   "metadata": {
    "id": "6J-Ap9z1chxb"
   },
   "outputs": [],
   "source": [
    "import torchvision.transforms as tt"
   ]
  },
  {
   "cell_type": "code",
   "execution_count": 9,
   "metadata": {
    "id": "U0w_wBw_b11-"
   },
   "outputs": [],
   "source": [
    "# Data transforms (normalization & data augmentation)\n",
    "stats = ((0.4914, 0.4822, 0.4465), (0.2023, 0.1994, 0.2010))\n",
    "train_tfms = tt.Compose([tt.Resize((32, 32)),\n",
    "                         tt.Grayscale(num_output_channels=3),\n",
    "                         tt.RandomCrop(32, padding=4, padding_mode='reflect'), \n",
    "                         tt.RandomHorizontalFlip(), \n",
    "                         #tt.RandomRotate(degrees(-90, 90), fill(0,)),\n",
    "                         #tt.RandomResizedCrop(32, scale=(0.5,0.9), ratio=(1, 1)), \n",
    "                         #tt.ColorJitter(brightness=0.1, contrast=0.1, saturation=0.1, hue=0.1),\n",
    "                         tt.ToTensor(), \n",
    "                         tt.Normalize(*stats,inplace=True)])\n",
    "\n",
    "\n",
    "valid_tfms = tt.Compose([tt.Resize((32, 32)),\n",
    "                         tt.Grayscale(num_output_channels=3),                             \n",
    "                         tt.ToTensor(), tt.Normalize(*stats)])\n",
    "\n",
    "test_tfms = tt.Compose([tt.Resize((32, 32)),\n",
    "                         tt.Grayscale(num_output_channels=3),                             \n",
    "                         tt.ToTensor(), tt.Normalize(*stats)])"
   ]
  },
  {
   "cell_type": "code",
   "execution_count": 10,
   "metadata": {
    "id": "nvtbbKTJb1qM"
   },
   "outputs": [],
   "source": [
    "# PyTorch datasets\n",
    "train_ds = ImageFolder(train_dir+'/TRAIN', train_tfms)\n",
    "valid_ds = ImageFolder(valid_dir+'/VAL', valid_tfms)\n",
    "test_ds = ImageFolder(valid_dir+'/TEST', test_tfms)"
   ]
  },
  {
   "cell_type": "code",
   "execution_count": 11,
   "metadata": {
    "id": "fQn1MsaNIUjJ"
   },
   "outputs": [],
   "source": [
    "# train_ds = ImageFolder(\"/content/drive/MyDrive/fold/TRAIN\" , transform=transform)\n",
    "# valid_ds = ImageFolder(\"/content/drive/MyDrive/fold/VAL\" , transform=transform)\n",
    "# test_ds = ImageFolder(\"/content/drive/MyDrive/fold/TEST\" , transform=transform)"
   ]
  },
  {
   "cell_type": "code",
   "execution_count": 12,
   "metadata": {
    "colab": {
     "base_uri": "https://localhost:8080/"
    },
    "id": "DzebS4Z0IRSd",
    "outputId": "a3186f04-1a18-4202-e25f-245e60c2c256"
   },
   "outputs": [
    {
     "data": {
      "text/plain": [
       "(3243, 300, 68)"
      ]
     },
     "execution_count": 12,
     "metadata": {
      "tags": []
     },
     "output_type": "execute_result"
    }
   ],
   "source": [
    "len(train_ds), len(valid_ds), len(test_ds)"
   ]
  },
  {
   "cell_type": "code",
   "execution_count": 13,
   "metadata": {
    "id": "0vTnSSodIox4"
   },
   "outputs": [],
   "source": [
    "batch_size = 400"
   ]
  },
  {
   "cell_type": "code",
   "execution_count": 14,
   "metadata": {
    "id": "70h3XsWlIg_X"
   },
   "outputs": [],
   "source": [
    "train_dl = DataLoader(train_ds, batch_size, shuffle=True, num_workers=4, pin_memory=True)\n",
    "valid_dl = DataLoader(valid_ds, batch_size, num_workers=4, pin_memory=True)\n",
    "test_dl = DataLoader(test_ds, batch_size, num_workers=4, pin_memory=True)"
   ]
  },
  {
   "cell_type": "code",
   "execution_count": 15,
   "metadata": {
    "colab": {
     "base_uri": "https://localhost:8080/"
    },
    "id": "ENOQ3h-JMQ5B",
    "outputId": "ae7595ab-ec97-4934-b2dd-b7fe55b722da"
   },
   "outputs": [
    {
     "data": {
      "text/plain": [
       "{'box': 0, 'chevron': 1, 'rounded': 2}"
      ]
     },
     "execution_count": 15,
     "metadata": {
      "tags": []
     },
     "output_type": "execute_result"
    }
   ],
   "source": [
    "train_ds.class_to_idx"
   ]
  },
  {
   "cell_type": "code",
   "execution_count": 16,
   "metadata": {
    "colab": {
     "base_uri": "https://localhost:8080/"
    },
    "id": "MK1uiSmDMXm4",
    "outputId": "f411134f-0fbf-47f0-db27-c1ca9dab0db4"
   },
   "outputs": [
    {
     "data": {
      "text/plain": [
       "{'box': 0, 'chevron': 1, 'rounded': 2}"
      ]
     },
     "execution_count": 16,
     "metadata": {
      "tags": []
     },
     "output_type": "execute_result"
    }
   ],
   "source": [
    "valid_ds.class_to_idx"
   ]
  },
  {
   "cell_type": "code",
   "execution_count": 17,
   "metadata": {
    "colab": {
     "base_uri": "https://localhost:8080/"
    },
    "id": "UYLWHtGOMXyu",
    "outputId": "a6c92cd6-9f9e-4c4a-8c4c-537917b6a436"
   },
   "outputs": [
    {
     "data": {
      "text/plain": [
       "{'box': 0, 'chevron': 1, 'rounded': 2}"
      ]
     },
     "execution_count": 17,
     "metadata": {
      "tags": []
     },
     "output_type": "execute_result"
    }
   ],
   "source": [
    "test_ds.class_to_idx"
   ]
  },
  {
   "cell_type": "code",
   "execution_count": 18,
   "metadata": {
    "id": "WJHDWtpLIkSS"
   },
   "outputs": [],
   "source": [
    "import matplotlib\n",
    "import matplotlib.pyplot as plt\n",
    "%matplotlib inline\n",
    "\n",
    "matplotlib.rcParams['figure.facecolor'] = '#ffffff'"
   ]
  },
  {
   "cell_type": "code",
   "execution_count": 19,
   "metadata": {
    "id": "yJu9V_TxIvVV"
   },
   "outputs": [],
   "source": [
    "def get_default_device():\n",
    "    \"\"\"Pick GPU if available, else CPU\"\"\"\n",
    "    if torch.cuda.is_available():\n",
    "        return torch.device('cuda')\n",
    "    else:\n",
    "        return torch.device('cpu')\n",
    "    \n",
    "def to_device(data, device):\n",
    "    \"\"\"Move tensor(s) to chosen device\"\"\"\n",
    "    if isinstance(data, (list,tuple)):\n",
    "        return [to_device(x, device) for x in data]\n",
    "    return data.to(device, non_blocking=True)\n",
    "\n",
    "class DeviceDataLoader():\n",
    "    \"\"\"Wrap a dataloader to move data to a device\"\"\"\n",
    "    def __init__(self, dl, device):\n",
    "        self.dl = dl\n",
    "        self.device = device\n",
    "        \n",
    "    def __iter__(self):\n",
    "        \"\"\"Yield a batch of data after moving it to device\"\"\"\n",
    "        for b in self.dl: \n",
    "            yield to_device(b, self.device)\n",
    "\n",
    "    def __len__(self):\n",
    "        \"\"\"Number of batches\"\"\"\n",
    "        return len(self.dl)"
   ]
  },
  {
   "cell_type": "code",
   "execution_count": 20,
   "metadata": {
    "colab": {
     "base_uri": "https://localhost:8080/"
    },
    "id": "3uwZ2WtqI1cX",
    "outputId": "f6e82273-c7fe-4230-8bcc-3eea0817f5f7"
   },
   "outputs": [
    {
     "data": {
      "text/plain": [
       "device(type='cuda')"
      ]
     },
     "execution_count": 20,
     "metadata": {
      "tags": []
     },
     "output_type": "execute_result"
    }
   ],
   "source": [
    "device = get_default_device()\n",
    "device"
   ]
  },
  {
   "cell_type": "code",
   "execution_count": 21,
   "metadata": {
    "id": "iYNoMVhzI4Oc"
   },
   "outputs": [],
   "source": [
    "class FoldsClassification(nn.Module):\n",
    "    def training_step(self, batch):\n",
    "        images, labels = batch \n",
    "        out = self(images)                  # Generate predictions\n",
    "        loss = F.cross_entropy(out, labels) # Calculate loss\n",
    "        return loss\n",
    "    \n",
    "    def validation_step(self, batch):\n",
    "        images, labels = batch \n",
    "        out = self(images)                    # Generate predictions\n",
    "        loss = F.cross_entropy(out, labels)   # Calculate loss\n",
    "        acc = accuracy(out, labels)           # Calculate accuracy\n",
    "        return {'val_loss': loss.detach(), 'val_acc': acc}\n",
    "        \n",
    "    def validation_epoch_end(self, outputs):\n",
    "        batch_losses = [x['val_loss'] for x in outputs]\n",
    "        epoch_loss = torch.stack(batch_losses).mean()   # Combine losses\n",
    "        batch_accs = [x['val_acc'] for x in outputs]\n",
    "        epoch_acc = torch.stack(batch_accs).mean()      # Combine accuracies\n",
    "        return {'val_loss': epoch_loss.item(), 'val_acc': epoch_acc.item()}\n",
    "    \n",
    "    def epoch_end(self, epoch, result):\n",
    "        print(\"Epoch [{}], train_loss: {:.4f}, val_loss: {:.4f}, val_acc: {:.4f}\".format(\n",
    "            epoch, result['train_loss'], result['val_loss'], result['val_acc']))\n",
    "        \n",
    "def accuracy(outputs, labels):\n",
    "    _, preds = torch.max(outputs, dim=1)\n",
    "    return torch.tensor(torch.sum(preds == labels).item() / len(preds))"
   ]
  },
  {
   "cell_type": "code",
   "execution_count": 22,
   "metadata": {
    "id": "cOdRGYzwI_Rv"
   },
   "outputs": [],
   "source": [
    "from torchvision import models\n",
    "class FoldsModel(FoldsClassification):\n",
    "    def __init__(self):\n",
    "        super().__init__()\n",
    "        self.network = nn.Sequential(\n",
    "            nn.Conv2d(3, 32, kernel_size=3, padding=1),\n",
    "            nn.ReLU(),\n",
    "            nn.Conv2d(32, 64, kernel_size=3, stride=1, padding=1),\n",
    "            nn.ReLU(),\n",
    "            nn.MaxPool2d(2, 2), # output: 64 x 64 x 64\n",
    "\n",
    "            nn.Conv2d(64, 128, kernel_size=3, stride=1, padding=1),\n",
    "            nn.ReLU(),\n",
    "            nn.Conv2d(128, 128, kernel_size=3, stride=1, padding=1),\n",
    "            nn.ReLU(),\n",
    "            nn.MaxPool2d(2, 2), # output: 128 x 32 x 32\n",
    "\n",
    "            nn.Conv2d(128, 256, kernel_size=3, stride=1, padding=1),\n",
    "            nn.ReLU(),\n",
    "            nn.Conv2d(256, 256, kernel_size=3, stride=1, padding=1),\n",
    "            nn.ReLU(),\n",
    "            nn.MaxPool2d(2, 2), # output: 256 x 16 x 16\n",
    "\n",
    "            nn.Flatten(), \n",
    "            nn.Linear(256*4*4, 1024),\n",
    "            nn.ReLU(),\n",
    "            nn.Linear(1024, 512),\n",
    "            nn.ReLU(),\n",
    "            nn.Linear(512, 3))\n",
    "\n",
    "    def forward(self, xb):\n",
    "        return self.network(xb)"
   ]
  },
  {
   "cell_type": "code",
   "execution_count": 23,
   "metadata": {
    "colab": {
     "base_uri": "https://localhost:8080/"
    },
    "id": "QbpjUtzgJFYj",
    "outputId": "dac450c4-8d93-46da-9f3c-3a2844c85de5"
   },
   "outputs": [
    {
     "data": {
      "text/plain": [
       "FoldsModel(\n",
       "  (network): Sequential(\n",
       "    (0): Conv2d(3, 32, kernel_size=(3, 3), stride=(1, 1), padding=(1, 1))\n",
       "    (1): ReLU()\n",
       "    (2): Conv2d(32, 64, kernel_size=(3, 3), stride=(1, 1), padding=(1, 1))\n",
       "    (3): ReLU()\n",
       "    (4): MaxPool2d(kernel_size=2, stride=2, padding=0, dilation=1, ceil_mode=False)\n",
       "    (5): Conv2d(64, 128, kernel_size=(3, 3), stride=(1, 1), padding=(1, 1))\n",
       "    (6): ReLU()\n",
       "    (7): Conv2d(128, 128, kernel_size=(3, 3), stride=(1, 1), padding=(1, 1))\n",
       "    (8): ReLU()\n",
       "    (9): MaxPool2d(kernel_size=2, stride=2, padding=0, dilation=1, ceil_mode=False)\n",
       "    (10): Conv2d(128, 256, kernel_size=(3, 3), stride=(1, 1), padding=(1, 1))\n",
       "    (11): ReLU()\n",
       "    (12): Conv2d(256, 256, kernel_size=(3, 3), stride=(1, 1), padding=(1, 1))\n",
       "    (13): ReLU()\n",
       "    (14): MaxPool2d(kernel_size=2, stride=2, padding=0, dilation=1, ceil_mode=False)\n",
       "    (15): Flatten(start_dim=1, end_dim=-1)\n",
       "    (16): Linear(in_features=4096, out_features=1024, bias=True)\n",
       "    (17): ReLU()\n",
       "    (18): Linear(in_features=1024, out_features=512, bias=True)\n",
       "    (19): ReLU()\n",
       "    (20): Linear(in_features=512, out_features=3, bias=True)\n",
       "  )\n",
       ")"
      ]
     },
     "execution_count": 23,
     "metadata": {
      "tags": []
     },
     "output_type": "execute_result"
    }
   ],
   "source": [
    "model = FoldsModel()\n",
    "model"
   ]
  },
  {
   "cell_type": "code",
   "execution_count": 24,
   "metadata": {
    "colab": {
     "base_uri": "https://localhost:8080/"
    },
    "id": "YMdB3F7pJIRP",
    "outputId": "9bbb1ab6-5eaa-4fd5-d3e9-7d86a587cb82"
   },
   "outputs": [
    {
     "name": "stdout",
     "output_type": "stream",
     "text": [
      "images.shape: torch.Size([400, 3, 32, 32])\n",
      "out.shape: torch.Size([400, 3])\n",
      "out[0]: tensor([ 0.0096,  0.0303, -0.0341], grad_fn=<SelectBackward>)\n"
     ]
    }
   ],
   "source": [
    "for images, labels in train_dl:\n",
    "    print('images.shape:', images.shape)\n",
    "    out = model(images)\n",
    "    print('out.shape:', out.shape)\n",
    "    print('out[0]:', out[0])\n",
    "    break"
   ]
  },
  {
   "cell_type": "code",
   "execution_count": 25,
   "metadata": {
    "id": "eE4sSSUhJPDL"
   },
   "outputs": [],
   "source": [
    "def get_default_device():\n",
    "    \"\"\"Pick GPU if available, else CPU\"\"\"\n",
    "    if torch.cuda.is_available():\n",
    "        return torch.device('cuda')\n",
    "    else:\n",
    "        return torch.device('cpu')\n",
    "    \n",
    "def to_device(data, device):\n",
    "    \"\"\"Move tensor(s) to chosen device\"\"\"\n",
    "    if isinstance(data, (list,tuple)):\n",
    "        return [to_device(x, device) for x in data]\n",
    "    return data.to(device, non_blocking=True)\n",
    "\n",
    "class DeviceDataLoader():\n",
    "    \"\"\"Wrap a dataloader to move data to a device\"\"\"\n",
    "    def __init__(self, dl, device):\n",
    "        self.dl = dl\n",
    "        self.device = device\n",
    "        \n",
    "    def __iter__(self):\n",
    "        \"\"\"Yield a batch of data after moving it to device\"\"\"\n",
    "        for b in self.dl: \n",
    "            yield to_device(b, self.device)\n",
    "\n",
    "    def __len__(self):\n",
    "        \"\"\"Number of batches\"\"\"\n",
    "        return len(self.dl)"
   ]
  },
  {
   "cell_type": "code",
   "execution_count": 26,
   "metadata": {
    "colab": {
     "base_uri": "https://localhost:8080/"
    },
    "id": "Iz2XFsUEJXSG",
    "outputId": "91a5fde4-9dc7-4d93-acd5-4894c50bc562"
   },
   "outputs": [
    {
     "data": {
      "text/plain": [
       "device(type='cuda')"
      ]
     },
     "execution_count": 26,
     "metadata": {
      "tags": []
     },
     "output_type": "execute_result"
    }
   ],
   "source": [
    "device = get_default_device()\n",
    "device"
   ]
  },
  {
   "cell_type": "code",
   "execution_count": 27,
   "metadata": {
    "id": "prq04vtbJbM-"
   },
   "outputs": [],
   "source": [
    "train_dl = DeviceDataLoader(train_dl, device)\n",
    "valid_dl = DeviceDataLoader(valid_dl, device)\n",
    "test_dl = DeviceDataLoader(test_dl, device)\n",
    "to_device(model, device);"
   ]
  },
  {
   "cell_type": "code",
   "execution_count": 28,
   "metadata": {
    "id": "TBtzwqleJbTF"
   },
   "outputs": [],
   "source": [
    "@torch.no_grad()\n",
    "def evaluate(model, val_loader):\n",
    "    model.eval()\n",
    "    outputs = [model.validation_step(batch) for batch in val_loader]\n",
    "    return model.validation_epoch_end(outputs)\n",
    "\n",
    "def fit(epochs, lr, model, train_loader, val_loader, opt_func=torch.optim.SGD):\n",
    "    history = []\n",
    "    optimizer = opt_func(model.parameters(), lr)\n",
    "    for epoch in range(epochs):\n",
    "        # Training Phase \n",
    "        model.train()\n",
    "        train_losses = []\n",
    "        for batch in train_loader:\n",
    "            loss = model.training_step(batch)\n",
    "            train_losses.append(loss)\n",
    "            loss.backward()\n",
    "            optimizer.step()\n",
    "            optimizer.zero_grad()\n",
    "        # Validation phase\n",
    "        result = evaluate(model, val_loader)\n",
    "        result['train_loss'] = torch.stack(train_losses).mean().item()\n",
    "        model.epoch_end(epoch, result)\n",
    "        history.append(result)\n",
    "    return history"
   ]
  },
  {
   "cell_type": "code",
   "execution_count": 29,
   "metadata": {
    "id": "y4BTERU-Jbbc"
   },
   "outputs": [],
   "source": [
    "model = to_device(FoldsModel(), device)"
   ]
  },
  {
   "cell_type": "code",
   "execution_count": 30,
   "metadata": {
    "colab": {
     "base_uri": "https://localhost:8080/"
    },
    "id": "ABY7e5xZJbgo",
    "outputId": "a1b2ceab-2e96-4133-890f-ae87ab0ca975"
   },
   "outputs": [
    {
     "data": {
      "text/plain": [
       "{'val_acc': 0.3333333432674408, 'val_loss': 1.098818063735962}"
      ]
     },
     "execution_count": 30,
     "metadata": {
      "tags": []
     },
     "output_type": "execute_result"
    }
   ],
   "source": [
    "evaluate(model, valid_dl)"
   ]
  },
  {
   "cell_type": "code",
   "execution_count": 31,
   "metadata": {
    "id": "6hljESUNJbk7"
   },
   "outputs": [],
   "source": [
    "num_epochs = 380\n",
    "opt_func = torch.optim.Adam\n",
    "lr = 0.0007"
   ]
  },
  {
   "cell_type": "code",
   "execution_count": 32,
   "metadata": {
    "colab": {
     "base_uri": "https://localhost:8080/"
    },
    "id": "t2Wj4K-RJbp0",
    "outputId": "64a4ced7-0faf-4090-b69c-c1968d440b18"
   },
   "outputs": [
    {
     "name": "stdout",
     "output_type": "stream",
     "text": [
      "Epoch [0], train_loss: 1.0760, val_loss: 1.4585, val_acc: 0.3233\n",
      "Epoch [1], train_loss: 1.0268, val_loss: 1.3440, val_acc: 0.3333\n",
      "Epoch [2], train_loss: 0.8762, val_loss: 1.7298, val_acc: 0.3333\n",
      "Epoch [3], train_loss: 0.8802, val_loss: 1.3180, val_acc: 0.3200\n",
      "Epoch [4], train_loss: 0.7172, val_loss: 1.1909, val_acc: 0.3233\n",
      "Epoch [5], train_loss: 0.6576, val_loss: 1.3328, val_acc: 0.3300\n",
      "Epoch [6], train_loss: 0.5602, val_loss: 1.2706, val_acc: 0.3433\n",
      "Epoch [7], train_loss: 0.5134, val_loss: 1.2343, val_acc: 0.3367\n",
      "Epoch [8], train_loss: 0.5537, val_loss: 1.3536, val_acc: 0.3300\n",
      "Epoch [9], train_loss: 0.4853, val_loss: 1.4973, val_acc: 0.3233\n",
      "Epoch [10], train_loss: 0.4298, val_loss: 1.3553, val_acc: 0.3267\n",
      "Epoch [11], train_loss: 0.3915, val_loss: 1.3780, val_acc: 0.3467\n",
      "Epoch [12], train_loss: 0.4494, val_loss: 1.3170, val_acc: 0.3367\n",
      "Epoch [13], train_loss: 0.3994, val_loss: 1.2130, val_acc: 0.3533\n",
      "Epoch [14], train_loss: 0.3181, val_loss: 1.3396, val_acc: 0.3567\n",
      "Epoch [15], train_loss: 0.2843, val_loss: 1.3666, val_acc: 0.3633\n",
      "Epoch [16], train_loss: 0.2970, val_loss: 1.3098, val_acc: 0.3833\n",
      "Epoch [17], train_loss: 0.2744, val_loss: 1.3465, val_acc: 0.3567\n",
      "Epoch [18], train_loss: 0.2657, val_loss: 1.4361, val_acc: 0.3600\n",
      "Epoch [19], train_loss: 0.2853, val_loss: 1.2150, val_acc: 0.3867\n",
      "Epoch [20], train_loss: 0.2752, val_loss: 1.4159, val_acc: 0.3567\n",
      "Epoch [21], train_loss: 0.3223, val_loss: 1.2299, val_acc: 0.3533\n",
      "Epoch [22], train_loss: 0.2795, val_loss: 1.4203, val_acc: 0.3800\n",
      "Epoch [23], train_loss: 0.2788, val_loss: 1.1392, val_acc: 0.4000\n",
      "Epoch [24], train_loss: 0.2642, val_loss: 1.1435, val_acc: 0.3700\n",
      "Epoch [25], train_loss: 0.2654, val_loss: 1.2269, val_acc: 0.4100\n",
      "Epoch [26], train_loss: 0.2408, val_loss: 1.2257, val_acc: 0.4067\n",
      "Epoch [27], train_loss: 0.2477, val_loss: 1.1118, val_acc: 0.4167\n",
      "Epoch [28], train_loss: 0.2365, val_loss: 1.2968, val_acc: 0.4100\n",
      "Epoch [29], train_loss: 0.2162, val_loss: 1.3164, val_acc: 0.4233\n",
      "Epoch [30], train_loss: 0.2321, val_loss: 1.1565, val_acc: 0.4067\n",
      "Epoch [31], train_loss: 0.2351, val_loss: 1.2237, val_acc: 0.4033\n",
      "Epoch [32], train_loss: 0.2134, val_loss: 1.3758, val_acc: 0.4000\n",
      "Epoch [33], train_loss: 0.2193, val_loss: 1.3100, val_acc: 0.3933\n",
      "Epoch [34], train_loss: 0.2121, val_loss: 1.1288, val_acc: 0.4067\n",
      "Epoch [35], train_loss: 0.2016, val_loss: 1.0972, val_acc: 0.4167\n",
      "Epoch [36], train_loss: 0.1965, val_loss: 1.1628, val_acc: 0.4800\n",
      "Epoch [37], train_loss: 0.1899, val_loss: 1.1718, val_acc: 0.4767\n",
      "Epoch [38], train_loss: 0.1787, val_loss: 1.0964, val_acc: 0.5200\n",
      "Epoch [39], train_loss: 0.1685, val_loss: 1.1707, val_acc: 0.4900\n",
      "Epoch [40], train_loss: 0.1690, val_loss: 1.1244, val_acc: 0.4867\n",
      "Epoch [41], train_loss: 0.1775, val_loss: 1.0905, val_acc: 0.4567\n",
      "Epoch [42], train_loss: 0.1708, val_loss: 1.0929, val_acc: 0.4600\n",
      "Epoch [43], train_loss: 0.1786, val_loss: 1.1352, val_acc: 0.4233\n",
      "Epoch [44], train_loss: 0.2039, val_loss: 1.0505, val_acc: 0.4467\n",
      "Epoch [45], train_loss: 0.2081, val_loss: 1.0740, val_acc: 0.5033\n",
      "Epoch [46], train_loss: 0.1813, val_loss: 1.1919, val_acc: 0.4867\n",
      "Epoch [47], train_loss: 0.1706, val_loss: 0.9975, val_acc: 0.5300\n",
      "Epoch [48], train_loss: 0.1547, val_loss: 1.0405, val_acc: 0.5167\n",
      "Epoch [49], train_loss: 0.1637, val_loss: 1.1759, val_acc: 0.4967\n",
      "Epoch [50], train_loss: 0.1542, val_loss: 1.1050, val_acc: 0.5100\n",
      "Epoch [51], train_loss: 0.1537, val_loss: 1.1991, val_acc: 0.4833\n",
      "Epoch [52], train_loss: 0.1655, val_loss: 1.0123, val_acc: 0.5233\n",
      "Epoch [53], train_loss: 0.1481, val_loss: 1.2744, val_acc: 0.5300\n",
      "Epoch [54], train_loss: 0.1418, val_loss: 1.1095, val_acc: 0.5433\n",
      "Epoch [55], train_loss: 0.1362, val_loss: 1.0148, val_acc: 0.5167\n",
      "Epoch [56], train_loss: 0.1310, val_loss: 1.0155, val_acc: 0.5467\n",
      "Epoch [57], train_loss: 0.1098, val_loss: 1.1347, val_acc: 0.5433\n",
      "Epoch [58], train_loss: 0.1222, val_loss: 1.1448, val_acc: 0.5600\n",
      "Epoch [59], train_loss: 0.1389, val_loss: 1.0291, val_acc: 0.5533\n",
      "Epoch [60], train_loss: 0.1273, val_loss: 1.2499, val_acc: 0.5333\n",
      "Epoch [61], train_loss: 0.1252, val_loss: 1.1436, val_acc: 0.5600\n",
      "Epoch [62], train_loss: 0.1437, val_loss: 1.1314, val_acc: 0.5267\n",
      "Epoch [63], train_loss: 0.1225, val_loss: 1.1086, val_acc: 0.5433\n",
      "Epoch [64], train_loss: 0.1213, val_loss: 1.3337, val_acc: 0.5033\n",
      "Epoch [65], train_loss: 0.1268, val_loss: 0.9894, val_acc: 0.5333\n",
      "Epoch [66], train_loss: 0.1539, val_loss: 1.1431, val_acc: 0.4967\n",
      "Epoch [67], train_loss: 0.1618, val_loss: 0.9471, val_acc: 0.5367\n",
      "Epoch [68], train_loss: 0.1498, val_loss: 1.1342, val_acc: 0.5400\n",
      "Epoch [69], train_loss: 0.1228, val_loss: 1.0919, val_acc: 0.5400\n",
      "Epoch [70], train_loss: 0.1170, val_loss: 1.1227, val_acc: 0.5800\n",
      "Epoch [71], train_loss: 0.1031, val_loss: 1.0717, val_acc: 0.5833\n",
      "Epoch [72], train_loss: 0.0971, val_loss: 1.1486, val_acc: 0.5567\n",
      "Epoch [73], train_loss: 0.0888, val_loss: 1.1913, val_acc: 0.5667\n",
      "Epoch [74], train_loss: 0.1000, val_loss: 1.1852, val_acc: 0.5667\n",
      "Epoch [75], train_loss: 0.1249, val_loss: 1.1442, val_acc: 0.5567\n",
      "Epoch [76], train_loss: 0.1206, val_loss: 1.0748, val_acc: 0.5667\n",
      "Epoch [77], train_loss: 0.0959, val_loss: 1.1407, val_acc: 0.6067\n",
      "Epoch [78], train_loss: 0.0885, val_loss: 1.1138, val_acc: 0.6000\n",
      "Epoch [79], train_loss: 0.0787, val_loss: 1.3252, val_acc: 0.5800\n",
      "Epoch [80], train_loss: 0.0908, val_loss: 1.2122, val_acc: 0.5833\n",
      "Epoch [81], train_loss: 0.0912, val_loss: 1.1459, val_acc: 0.5933\n",
      "Epoch [82], train_loss: 0.1140, val_loss: 1.3778, val_acc: 0.5200\n",
      "Epoch [83], train_loss: 0.0840, val_loss: 1.4631, val_acc: 0.5433\n",
      "Epoch [84], train_loss: 0.0898, val_loss: 1.1639, val_acc: 0.5633\n",
      "Epoch [85], train_loss: 0.0824, val_loss: 1.0997, val_acc: 0.5667\n",
      "Epoch [86], train_loss: 0.0783, val_loss: 1.1759, val_acc: 0.6033\n",
      "Epoch [87], train_loss: 0.0807, val_loss: 1.1717, val_acc: 0.6167\n",
      "Epoch [88], train_loss: 0.0896, val_loss: 1.1367, val_acc: 0.5700\n",
      "Epoch [89], train_loss: 0.0898, val_loss: 1.1897, val_acc: 0.5767\n",
      "Epoch [90], train_loss: 0.0852, val_loss: 1.2022, val_acc: 0.5467\n",
      "Epoch [91], train_loss: 0.0780, val_loss: 1.3080, val_acc: 0.5600\n",
      "Epoch [92], train_loss: 0.0768, val_loss: 1.1663, val_acc: 0.5800\n",
      "Epoch [93], train_loss: 0.0713, val_loss: 1.0977, val_acc: 0.6300\n",
      "Epoch [94], train_loss: 0.0539, val_loss: 1.2683, val_acc: 0.6100\n",
      "Epoch [95], train_loss: 0.0535, val_loss: 1.1788, val_acc: 0.5767\n",
      "Epoch [96], train_loss: 0.0629, val_loss: 1.1263, val_acc: 0.5733\n",
      "Epoch [97], train_loss: 0.0612, val_loss: 1.3815, val_acc: 0.5900\n",
      "Epoch [98], train_loss: 0.0712, val_loss: 1.0840, val_acc: 0.6033\n",
      "Epoch [99], train_loss: 0.0772, val_loss: 1.2655, val_acc: 0.6067\n",
      "Epoch [100], train_loss: 0.0586, val_loss: 1.1836, val_acc: 0.5933\n",
      "Epoch [101], train_loss: 0.0547, val_loss: 1.4125, val_acc: 0.6100\n",
      "Epoch [102], train_loss: 0.0636, val_loss: 1.2590, val_acc: 0.6300\n",
      "Epoch [103], train_loss: 0.0710, val_loss: 1.3101, val_acc: 0.6667\n",
      "Epoch [104], train_loss: 0.0612, val_loss: 1.3750, val_acc: 0.6200\n",
      "Epoch [105], train_loss: 0.0686, val_loss: 1.2991, val_acc: 0.6267\n",
      "Epoch [106], train_loss: 0.0756, val_loss: 1.0563, val_acc: 0.6067\n",
      "Epoch [107], train_loss: 0.0992, val_loss: 0.9574, val_acc: 0.5967\n",
      "Epoch [108], train_loss: 0.0809, val_loss: 1.1497, val_acc: 0.6167\n",
      "Epoch [109], train_loss: 0.0669, val_loss: 1.1076, val_acc: 0.6400\n",
      "Epoch [110], train_loss: 0.0536, val_loss: 1.2640, val_acc: 0.6167\n",
      "Epoch [111], train_loss: 0.0838, val_loss: 1.2808, val_acc: 0.6167\n",
      "Epoch [112], train_loss: 0.0789, val_loss: 1.5595, val_acc: 0.5667\n",
      "Epoch [113], train_loss: 0.0742, val_loss: 1.2982, val_acc: 0.6233\n",
      "Epoch [114], train_loss: 0.0858, val_loss: 1.1241, val_acc: 0.6600\n",
      "Epoch [115], train_loss: 0.0823, val_loss: 1.1217, val_acc: 0.6067\n",
      "Epoch [116], train_loss: 0.0705, val_loss: 1.1327, val_acc: 0.6233\n",
      "Epoch [117], train_loss: 0.0614, val_loss: 1.2224, val_acc: 0.6267\n",
      "Epoch [118], train_loss: 0.0468, val_loss: 1.1872, val_acc: 0.6000\n",
      "Epoch [119], train_loss: 0.0491, val_loss: 1.3212, val_acc: 0.6000\n",
      "Epoch [120], train_loss: 0.0528, val_loss: 1.3056, val_acc: 0.6267\n",
      "Epoch [121], train_loss: 0.0414, val_loss: 1.1988, val_acc: 0.6400\n",
      "Epoch [122], train_loss: 0.0371, val_loss: 1.2512, val_acc: 0.6567\n",
      "Epoch [123], train_loss: 0.0330, val_loss: 1.4102, val_acc: 0.6633\n",
      "Epoch [124], train_loss: 0.0399, val_loss: 1.1810, val_acc: 0.6733\n",
      "Epoch [125], train_loss: 0.0400, val_loss: 1.2966, val_acc: 0.6667\n",
      "Epoch [126], train_loss: 0.0397, val_loss: 1.4583, val_acc: 0.6433\n",
      "Epoch [127], train_loss: 0.0403, val_loss: 1.6910, val_acc: 0.6300\n",
      "Epoch [128], train_loss: 0.0481, val_loss: 1.4267, val_acc: 0.6033\n",
      "Epoch [129], train_loss: 0.0406, val_loss: 1.2464, val_acc: 0.6600\n",
      "Epoch [130], train_loss: 0.0449, val_loss: 1.3345, val_acc: 0.6333\n",
      "Epoch [131], train_loss: 0.0380, val_loss: 1.5709, val_acc: 0.6133\n",
      "Epoch [132], train_loss: 0.0346, val_loss: 1.6896, val_acc: 0.6267\n",
      "Epoch [133], train_loss: 0.0534, val_loss: 1.3453, val_acc: 0.6567\n",
      "Epoch [134], train_loss: 0.0434, val_loss: 1.2387, val_acc: 0.6867\n",
      "Epoch [135], train_loss: 0.0350, val_loss: 1.0862, val_acc: 0.6767\n",
      "Epoch [136], train_loss: 0.0255, val_loss: 1.4190, val_acc: 0.6767\n",
      "Epoch [137], train_loss: 0.0283, val_loss: 1.5320, val_acc: 0.6500\n",
      "Epoch [138], train_loss: 0.0335, val_loss: 1.8623, val_acc: 0.6267\n",
      "Epoch [139], train_loss: 0.0272, val_loss: 1.5434, val_acc: 0.6767\n",
      "Epoch [140], train_loss: 0.0329, val_loss: 1.4362, val_acc: 0.6867\n",
      "Epoch [141], train_loss: 0.0311, val_loss: 1.5193, val_acc: 0.6667\n",
      "Epoch [142], train_loss: 0.0343, val_loss: 1.3446, val_acc: 0.6733\n",
      "Epoch [143], train_loss: 0.0309, val_loss: 1.9230, val_acc: 0.6367\n",
      "Epoch [144], train_loss: 0.0887, val_loss: 1.9482, val_acc: 0.5567\n",
      "Epoch [145], train_loss: 0.0942, val_loss: 1.3555, val_acc: 0.6067\n",
      "Epoch [146], train_loss: 0.0657, val_loss: 1.1497, val_acc: 0.6467\n",
      "Epoch [147], train_loss: 0.0514, val_loss: 1.2063, val_acc: 0.6600\n",
      "Epoch [148], train_loss: 0.0605, val_loss: 1.0824, val_acc: 0.6733\n",
      "Epoch [149], train_loss: 0.0473, val_loss: 1.1574, val_acc: 0.6333\n",
      "Epoch [150], train_loss: 0.0351, val_loss: 1.4492, val_acc: 0.6333\n",
      "Epoch [151], train_loss: 0.0351, val_loss: 1.3268, val_acc: 0.6667\n",
      "Epoch [152], train_loss: 0.0543, val_loss: 1.4604, val_acc: 0.6733\n",
      "Epoch [153], train_loss: 0.0777, val_loss: 1.2993, val_acc: 0.5867\n",
      "Epoch [154], train_loss: 0.0713, val_loss: 1.2381, val_acc: 0.6200\n",
      "Epoch [155], train_loss: 0.0541, val_loss: 1.1094, val_acc: 0.6667\n",
      "Epoch [156], train_loss: 0.0389, val_loss: 1.2535, val_acc: 0.6433\n",
      "Epoch [157], train_loss: 0.0352, val_loss: 1.2711, val_acc: 0.6700\n",
      "Epoch [158], train_loss: 0.0246, val_loss: 1.4432, val_acc: 0.6533\n",
      "Epoch [159], train_loss: 0.0229, val_loss: 1.5381, val_acc: 0.6667\n",
      "Epoch [160], train_loss: 0.0276, val_loss: 1.4612, val_acc: 0.6500\n",
      "Epoch [161], train_loss: 0.0273, val_loss: 1.4308, val_acc: 0.6700\n",
      "Epoch [162], train_loss: 0.0329, val_loss: 1.5088, val_acc: 0.6500\n",
      "Epoch [163], train_loss: 0.0290, val_loss: 1.2587, val_acc: 0.6400\n",
      "Epoch [164], train_loss: 0.0301, val_loss: 1.3460, val_acc: 0.6500\n",
      "Epoch [165], train_loss: 0.0310, val_loss: 1.5585, val_acc: 0.6467\n",
      "Epoch [166], train_loss: 0.0318, val_loss: 1.4232, val_acc: 0.6700\n",
      "Epoch [167], train_loss: 0.0526, val_loss: 1.5004, val_acc: 0.6533\n",
      "Epoch [168], train_loss: 0.0905, val_loss: 1.2157, val_acc: 0.6400\n",
      "Epoch [169], train_loss: 0.0566, val_loss: 1.1693, val_acc: 0.6733\n",
      "Epoch [170], train_loss: 0.0448, val_loss: 1.1807, val_acc: 0.6767\n",
      "Epoch [171], train_loss: 0.0479, val_loss: 1.5510, val_acc: 0.6833\n",
      "Epoch [172], train_loss: 0.0384, val_loss: 1.4719, val_acc: 0.6500\n",
      "Epoch [173], train_loss: 0.0281, val_loss: 1.3488, val_acc: 0.6733\n",
      "Epoch [174], train_loss: 0.0282, val_loss: 1.3230, val_acc: 0.6867\n",
      "Epoch [175], train_loss: 0.0317, val_loss: 1.3811, val_acc: 0.6633\n",
      "Epoch [176], train_loss: 0.0270, val_loss: 1.4145, val_acc: 0.6567\n",
      "Epoch [177], train_loss: 0.0337, val_loss: 1.4707, val_acc: 0.6533\n",
      "Epoch [178], train_loss: 0.0270, val_loss: 1.7028, val_acc: 0.6567\n",
      "Epoch [179], train_loss: 0.0292, val_loss: 1.3730, val_acc: 0.6700\n",
      "Epoch [180], train_loss: 0.0254, val_loss: 1.3717, val_acc: 0.6733\n",
      "Epoch [181], train_loss: 0.0236, val_loss: 1.3891, val_acc: 0.6733\n",
      "Epoch [182], train_loss: 0.0157, val_loss: 1.4808, val_acc: 0.6567\n",
      "Epoch [183], train_loss: 0.0161, val_loss: 1.4847, val_acc: 0.6667\n",
      "Epoch [184], train_loss: 0.0171, val_loss: 1.5997, val_acc: 0.6800\n",
      "Epoch [185], train_loss: 0.0259, val_loss: 1.6584, val_acc: 0.6767\n",
      "Epoch [186], train_loss: 0.0251, val_loss: 1.7203, val_acc: 0.6533\n",
      "Epoch [187], train_loss: 0.0404, val_loss: 1.3109, val_acc: 0.6767\n",
      "Epoch [188], train_loss: 0.0310, val_loss: 1.2196, val_acc: 0.6967\n",
      "Epoch [189], train_loss: 0.0178, val_loss: 1.4284, val_acc: 0.6533\n",
      "Epoch [190], train_loss: 0.0169, val_loss: 1.5555, val_acc: 0.6433\n",
      "Epoch [191], train_loss: 0.0271, val_loss: 1.6317, val_acc: 0.6533\n",
      "Epoch [192], train_loss: 0.0284, val_loss: 1.5297, val_acc: 0.6767\n",
      "Epoch [193], train_loss: 0.0391, val_loss: 1.4346, val_acc: 0.6667\n",
      "Epoch [194], train_loss: 0.0514, val_loss: 1.4815, val_acc: 0.6700\n",
      "Epoch [195], train_loss: 0.0418, val_loss: 1.3309, val_acc: 0.6800\n",
      "Epoch [196], train_loss: 0.0207, val_loss: 1.4172, val_acc: 0.6933\n",
      "Epoch [197], train_loss: 0.0157, val_loss: 1.7714, val_acc: 0.6767\n",
      "Epoch [198], train_loss: 0.0157, val_loss: 1.9349, val_acc: 0.6833\n",
      "Epoch [199], train_loss: 0.0207, val_loss: 1.6206, val_acc: 0.6800\n",
      "Epoch [200], train_loss: 0.0218, val_loss: 1.5256, val_acc: 0.6600\n",
      "Epoch [201], train_loss: 0.0174, val_loss: 1.9023, val_acc: 0.6767\n",
      "Epoch [202], train_loss: 0.0186, val_loss: 1.6599, val_acc: 0.6900\n",
      "Epoch [203], train_loss: 0.0208, val_loss: 1.7986, val_acc: 0.6700\n",
      "Epoch [204], train_loss: 0.0203, val_loss: 1.7536, val_acc: 0.6700\n",
      "Epoch [205], train_loss: 0.0168, val_loss: 1.7670, val_acc: 0.6567\n",
      "Epoch [206], train_loss: 0.0139, val_loss: 1.7120, val_acc: 0.6433\n",
      "Epoch [207], train_loss: 0.0113, val_loss: 1.5784, val_acc: 0.6800\n",
      "Epoch [208], train_loss: 0.0138, val_loss: 1.8999, val_acc: 0.6567\n",
      "Epoch [209], train_loss: 0.0165, val_loss: 1.7101, val_acc: 0.6733\n",
      "Epoch [210], train_loss: 0.0179, val_loss: 1.6178, val_acc: 0.6767\n",
      "Epoch [211], train_loss: 0.0176, val_loss: 1.7189, val_acc: 0.6733\n",
      "Epoch [212], train_loss: 0.0150, val_loss: 1.8705, val_acc: 0.7000\n",
      "Epoch [213], train_loss: 0.0140, val_loss: 2.1733, val_acc: 0.6367\n",
      "Epoch [214], train_loss: 0.0103, val_loss: 2.1101, val_acc: 0.6433\n",
      "Epoch [215], train_loss: 0.0205, val_loss: 1.7183, val_acc: 0.6767\n",
      "Epoch [216], train_loss: 0.0185, val_loss: 1.8443, val_acc: 0.6567\n",
      "Epoch [217], train_loss: 0.0291, val_loss: 1.9965, val_acc: 0.6600\n",
      "Epoch [218], train_loss: 0.0341, val_loss: 1.4755, val_acc: 0.6567\n",
      "Epoch [219], train_loss: 0.0330, val_loss: 1.4880, val_acc: 0.6633\n",
      "Epoch [220], train_loss: 0.0381, val_loss: 1.8015, val_acc: 0.6467\n",
      "Epoch [221], train_loss: 0.0363, val_loss: 1.5786, val_acc: 0.6433\n",
      "Epoch [222], train_loss: 0.0611, val_loss: 1.5074, val_acc: 0.6500\n",
      "Epoch [223], train_loss: 0.0456, val_loss: 1.5001, val_acc: 0.6600\n",
      "Epoch [224], train_loss: 0.0330, val_loss: 1.3356, val_acc: 0.6933\n",
      "Epoch [225], train_loss: 0.0204, val_loss: 1.2838, val_acc: 0.6967\n",
      "Epoch [226], train_loss: 0.0251, val_loss: 1.7683, val_acc: 0.6333\n",
      "Epoch [227], train_loss: 0.0197, val_loss: 1.7729, val_acc: 0.6733\n",
      "Epoch [228], train_loss: 0.0172, val_loss: 1.5469, val_acc: 0.6633\n",
      "Epoch [229], train_loss: 0.0218, val_loss: 2.0215, val_acc: 0.6400\n",
      "Epoch [230], train_loss: 0.0115, val_loss: 1.9081, val_acc: 0.6567\n",
      "Epoch [231], train_loss: 0.0095, val_loss: 1.9028, val_acc: 0.6567\n",
      "Epoch [232], train_loss: 0.0129, val_loss: 1.8023, val_acc: 0.6600\n",
      "Epoch [233], train_loss: 0.0147, val_loss: 1.7511, val_acc: 0.6400\n",
      "Epoch [234], train_loss: 0.0142, val_loss: 1.9198, val_acc: 0.6467\n",
      "Epoch [235], train_loss: 0.0120, val_loss: 2.7087, val_acc: 0.6333\n",
      "Epoch [236], train_loss: 0.1343, val_loss: 1.5903, val_acc: 0.5800\n",
      "Epoch [237], train_loss: 0.0851, val_loss: 1.0673, val_acc: 0.6067\n",
      "Epoch [238], train_loss: 0.1009, val_loss: 1.2761, val_acc: 0.6333\n",
      "Epoch [239], train_loss: 0.0664, val_loss: 1.1504, val_acc: 0.6433\n",
      "Epoch [240], train_loss: 0.0499, val_loss: 1.3478, val_acc: 0.6300\n",
      "Epoch [241], train_loss: 0.0410, val_loss: 1.5201, val_acc: 0.6633\n",
      "Epoch [242], train_loss: 0.0353, val_loss: 1.3237, val_acc: 0.7100\n",
      "Epoch [243], train_loss: 0.0459, val_loss: 1.2837, val_acc: 0.6500\n",
      "Epoch [244], train_loss: 0.0313, val_loss: 1.3698, val_acc: 0.6467\n",
      "Epoch [245], train_loss: 0.0201, val_loss: 1.4454, val_acc: 0.6600\n",
      "Epoch [246], train_loss: 0.0140, val_loss: 1.3219, val_acc: 0.6800\n",
      "Epoch [247], train_loss: 0.0190, val_loss: 1.4043, val_acc: 0.6867\n",
      "Epoch [248], train_loss: 0.0373, val_loss: 1.5761, val_acc: 0.6633\n",
      "Epoch [249], train_loss: 0.0643, val_loss: 1.3853, val_acc: 0.6533\n",
      "Epoch [250], train_loss: 0.0369, val_loss: 1.3604, val_acc: 0.6533\n",
      "Epoch [251], train_loss: 0.0290, val_loss: 1.5196, val_acc: 0.6600\n",
      "Epoch [252], train_loss: 0.0150, val_loss: 1.8089, val_acc: 0.6533\n",
      "Epoch [253], train_loss: 0.0120, val_loss: 1.9442, val_acc: 0.6600\n",
      "Epoch [254], train_loss: 0.0150, val_loss: 1.6412, val_acc: 0.6900\n",
      "Epoch [255], train_loss: 0.0091, val_loss: 2.0733, val_acc: 0.6600\n",
      "Epoch [256], train_loss: 0.0094, val_loss: 1.9222, val_acc: 0.6533\n",
      "Epoch [257], train_loss: 0.0101, val_loss: 2.0328, val_acc: 0.6500\n",
      "Epoch [258], train_loss: 0.0117, val_loss: 1.7962, val_acc: 0.6967\n",
      "Epoch [259], train_loss: 0.0076, val_loss: 1.9813, val_acc: 0.6900\n",
      "Epoch [260], train_loss: 0.0053, val_loss: 1.7751, val_acc: 0.7067\n",
      "Epoch [261], train_loss: 0.0078, val_loss: 2.0927, val_acc: 0.6733\n",
      "Epoch [262], train_loss: 0.0135, val_loss: 2.0017, val_acc: 0.6700\n",
      "Epoch [263], train_loss: 0.0132, val_loss: 1.6618, val_acc: 0.7067\n",
      "Epoch [264], train_loss: 0.0072, val_loss: 1.8006, val_acc: 0.6833\n",
      "Epoch [265], train_loss: 0.0098, val_loss: 1.8860, val_acc: 0.6833\n",
      "Epoch [266], train_loss: 0.0065, val_loss: 1.8156, val_acc: 0.6900\n",
      "Epoch [267], train_loss: 0.0044, val_loss: 1.8623, val_acc: 0.6667\n",
      "Epoch [268], train_loss: 0.0053, val_loss: 1.9238, val_acc: 0.6667\n",
      "Epoch [269], train_loss: 0.0023, val_loss: 2.1171, val_acc: 0.6800\n",
      "Epoch [270], train_loss: 0.0030, val_loss: 2.0470, val_acc: 0.6833\n",
      "Epoch [271], train_loss: 0.0049, val_loss: 1.9430, val_acc: 0.6800\n",
      "Epoch [272], train_loss: 0.0056, val_loss: 2.1579, val_acc: 0.6600\n",
      "Epoch [273], train_loss: 0.0090, val_loss: 2.0990, val_acc: 0.6400\n",
      "Epoch [274], train_loss: 0.0096, val_loss: 2.2313, val_acc: 0.6767\n",
      "Epoch [275], train_loss: 0.0094, val_loss: 2.4412, val_acc: 0.6300\n",
      "Epoch [276], train_loss: 0.0131, val_loss: 1.8939, val_acc: 0.6533\n",
      "Epoch [277], train_loss: 0.0067, val_loss: 1.9843, val_acc: 0.6300\n",
      "Epoch [278], train_loss: 0.0140, val_loss: 1.7674, val_acc: 0.6700\n",
      "Epoch [279], train_loss: 0.0061, val_loss: 1.6910, val_acc: 0.6900\n",
      "Epoch [280], train_loss: 0.0095, val_loss: 1.6727, val_acc: 0.6867\n",
      "Epoch [281], train_loss: 0.0072, val_loss: 1.7262, val_acc: 0.6933\n",
      "Epoch [282], train_loss: 0.0071, val_loss: 1.8085, val_acc: 0.6767\n",
      "Epoch [283], train_loss: 0.0059, val_loss: 2.1407, val_acc: 0.6867\n",
      "Epoch [284], train_loss: 0.0028, val_loss: 2.0032, val_acc: 0.6733\n",
      "Epoch [285], train_loss: 0.0024, val_loss: 2.0740, val_acc: 0.6833\n",
      "Epoch [286], train_loss: 0.0018, val_loss: 2.1279, val_acc: 0.6833\n",
      "Epoch [287], train_loss: 0.0155, val_loss: 2.0004, val_acc: 0.7033\n",
      "Epoch [288], train_loss: 0.0210, val_loss: 2.2955, val_acc: 0.6033\n",
      "Epoch [289], train_loss: 0.0486, val_loss: 1.9136, val_acc: 0.6167\n",
      "Epoch [290], train_loss: 0.0584, val_loss: 1.3674, val_acc: 0.6333\n",
      "Epoch [291], train_loss: 0.0762, val_loss: 1.2638, val_acc: 0.6233\n",
      "Epoch [292], train_loss: 0.0550, val_loss: 1.3229, val_acc: 0.6000\n",
      "Epoch [293], train_loss: 0.0370, val_loss: 1.2776, val_acc: 0.6600\n",
      "Epoch [294], train_loss: 0.0235, val_loss: 1.5788, val_acc: 0.6567\n",
      "Epoch [295], train_loss: 0.0236, val_loss: 1.5018, val_acc: 0.6733\n",
      "Epoch [296], train_loss: 0.0117, val_loss: 1.7033, val_acc: 0.6700\n",
      "Epoch [297], train_loss: 0.0155, val_loss: 1.7804, val_acc: 0.6500\n",
      "Epoch [298], train_loss: 0.0121, val_loss: 1.7858, val_acc: 0.6467\n",
      "Epoch [299], train_loss: 0.0188, val_loss: 1.7902, val_acc: 0.6467\n",
      "Epoch [300], train_loss: 0.0113, val_loss: 1.6052, val_acc: 0.6767\n",
      "Epoch [301], train_loss: 0.0177, val_loss: 1.8191, val_acc: 0.6700\n",
      "Epoch [302], train_loss: 0.0153, val_loss: 1.7176, val_acc: 0.6733\n",
      "Epoch [303], train_loss: 0.0116, val_loss: 1.9829, val_acc: 0.6833\n",
      "Epoch [304], train_loss: 0.0044, val_loss: 1.8225, val_acc: 0.6833\n",
      "Epoch [305], train_loss: 0.0121, val_loss: 2.0652, val_acc: 0.6733\n",
      "Epoch [306], train_loss: 0.0083, val_loss: 1.8740, val_acc: 0.6633\n",
      "Epoch [307], train_loss: 0.0099, val_loss: 1.8537, val_acc: 0.6733\n",
      "Epoch [308], train_loss: 0.0110, val_loss: 1.9080, val_acc: 0.6667\n",
      "Epoch [309], train_loss: 0.0090, val_loss: 1.9964, val_acc: 0.6833\n",
      "Epoch [310], train_loss: 0.0104, val_loss: 1.8215, val_acc: 0.6800\n",
      "Epoch [311], train_loss: 0.0063, val_loss: 2.0187, val_acc: 0.6567\n",
      "Epoch [312], train_loss: 0.0065, val_loss: 1.9397, val_acc: 0.6600\n",
      "Epoch [313], train_loss: 0.0054, val_loss: 1.8905, val_acc: 0.6600\n",
      "Epoch [314], train_loss: 0.0042, val_loss: 2.1388, val_acc: 0.6633\n",
      "Epoch [315], train_loss: 0.0034, val_loss: 1.9525, val_acc: 0.6700\n",
      "Epoch [316], train_loss: 0.0020, val_loss: 2.1456, val_acc: 0.6700\n",
      "Epoch [317], train_loss: 0.0024, val_loss: 2.0847, val_acc: 0.6867\n",
      "Epoch [318], train_loss: 0.0049, val_loss: 2.5016, val_acc: 0.6567\n",
      "Epoch [319], train_loss: 0.0350, val_loss: 1.7087, val_acc: 0.6600\n",
      "Epoch [320], train_loss: 0.0243, val_loss: 1.9979, val_acc: 0.6333\n",
      "Epoch [321], train_loss: 0.0164, val_loss: 1.7587, val_acc: 0.6533\n",
      "Epoch [322], train_loss: 0.0228, val_loss: 1.8680, val_acc: 0.6133\n",
      "Epoch [323], train_loss: 0.0463, val_loss: 2.3296, val_acc: 0.6367\n",
      "Epoch [324], train_loss: 0.0438, val_loss: 1.3946, val_acc: 0.6067\n",
      "Epoch [325], train_loss: 0.0378, val_loss: 1.5313, val_acc: 0.6367\n",
      "Epoch [326], train_loss: 0.0237, val_loss: 1.4873, val_acc: 0.6433\n",
      "Epoch [327], train_loss: 0.0194, val_loss: 1.4458, val_acc: 0.6433\n",
      "Epoch [328], train_loss: 0.0126, val_loss: 1.5261, val_acc: 0.6400\n",
      "Epoch [329], train_loss: 0.0058, val_loss: 1.8768, val_acc: 0.6567\n",
      "Epoch [330], train_loss: 0.0070, val_loss: 1.9913, val_acc: 0.6700\n",
      "Epoch [331], train_loss: 0.0043, val_loss: 1.8963, val_acc: 0.6967\n",
      "Epoch [332], train_loss: 0.0066, val_loss: 1.9606, val_acc: 0.6700\n",
      "Epoch [333], train_loss: 0.0032, val_loss: 2.0060, val_acc: 0.6633\n",
      "Epoch [334], train_loss: 0.0028, val_loss: 2.1225, val_acc: 0.6533\n",
      "Epoch [335], train_loss: 0.0075, val_loss: 1.9846, val_acc: 0.6867\n",
      "Epoch [336], train_loss: 0.0068, val_loss: 2.0575, val_acc: 0.6533\n",
      "Epoch [337], train_loss: 0.0066, val_loss: 1.9189, val_acc: 0.6633\n",
      "Epoch [338], train_loss: 0.0040, val_loss: 1.9132, val_acc: 0.6767\n",
      "Epoch [339], train_loss: 0.0040, val_loss: 2.0904, val_acc: 0.6667\n",
      "Epoch [340], train_loss: 0.0282, val_loss: 2.3467, val_acc: 0.6400\n",
      "Epoch [341], train_loss: 0.0389, val_loss: 1.5774, val_acc: 0.6500\n",
      "Epoch [342], train_loss: 0.0323, val_loss: 1.4922, val_acc: 0.6267\n",
      "Epoch [343], train_loss: 0.0215, val_loss: 1.4045, val_acc: 0.6167\n",
      "Epoch [344], train_loss: 0.0201, val_loss: 1.7566, val_acc: 0.6300\n",
      "Epoch [345], train_loss: 0.0131, val_loss: 1.6979, val_acc: 0.6367\n",
      "Epoch [346], train_loss: 0.0164, val_loss: 1.7503, val_acc: 0.6433\n",
      "Epoch [347], train_loss: 0.0119, val_loss: 1.6445, val_acc: 0.6667\n",
      "Epoch [348], train_loss: 0.0120, val_loss: 1.7994, val_acc: 0.6500\n",
      "Epoch [349], train_loss: 0.0095, val_loss: 1.8842, val_acc: 0.6333\n",
      "Epoch [350], train_loss: 0.0099, val_loss: 1.8266, val_acc: 0.6233\n",
      "Epoch [351], train_loss: 0.0093, val_loss: 1.5613, val_acc: 0.7033\n",
      "Epoch [352], train_loss: 0.0108, val_loss: 1.9748, val_acc: 0.6733\n",
      "Epoch [353], train_loss: 0.0069, val_loss: 1.7000, val_acc: 0.6533\n",
      "Epoch [354], train_loss: 0.0102, val_loss: 1.8995, val_acc: 0.6700\n",
      "Epoch [355], train_loss: 0.0102, val_loss: 1.7505, val_acc: 0.6733\n",
      "Epoch [356], train_loss: 0.0057, val_loss: 1.9251, val_acc: 0.6567\n",
      "Epoch [357], train_loss: 0.0036, val_loss: 1.9300, val_acc: 0.6567\n",
      "Epoch [358], train_loss: 0.0061, val_loss: 2.0964, val_acc: 0.6200\n",
      "Epoch [359], train_loss: 0.0053, val_loss: 1.9552, val_acc: 0.6633\n",
      "Epoch [360], train_loss: 0.0042, val_loss: 1.8033, val_acc: 0.6600\n",
      "Epoch [361], train_loss: 0.0030, val_loss: 1.8197, val_acc: 0.6433\n",
      "Epoch [362], train_loss: 0.0017, val_loss: 2.0205, val_acc: 0.6433\n",
      "Epoch [363], train_loss: 0.0011, val_loss: 1.9900, val_acc: 0.6433\n",
      "Epoch [364], train_loss: 0.0009, val_loss: 2.0161, val_acc: 0.6500\n",
      "Epoch [365], train_loss: 0.0019, val_loss: 2.0732, val_acc: 0.6467\n",
      "Epoch [366], train_loss: 0.0006, val_loss: 2.2763, val_acc: 0.6533\n",
      "Epoch [367], train_loss: 0.0008, val_loss: 2.2250, val_acc: 0.6467\n",
      "Epoch [368], train_loss: 0.0011, val_loss: 2.2309, val_acc: 0.6533\n",
      "Epoch [369], train_loss: 0.0052, val_loss: 2.1548, val_acc: 0.6567\n",
      "Epoch [370], train_loss: 0.0041, val_loss: 2.4439, val_acc: 0.6633\n",
      "Epoch [371], train_loss: 0.0080, val_loss: 2.0318, val_acc: 0.6767\n",
      "Epoch [372], train_loss: 0.0098, val_loss: 2.0271, val_acc: 0.6700\n",
      "Epoch [373], train_loss: 0.0232, val_loss: 2.2515, val_acc: 0.6333\n",
      "Epoch [374], train_loss: 0.0194, val_loss: 1.7549, val_acc: 0.6600\n",
      "Epoch [375], train_loss: 0.0130, val_loss: 1.9348, val_acc: 0.6667\n",
      "Epoch [376], train_loss: 0.0092, val_loss: 1.7164, val_acc: 0.6933\n",
      "Epoch [377], train_loss: 0.0066, val_loss: 1.8457, val_acc: 0.6833\n",
      "Epoch [378], train_loss: 0.0072, val_loss: 2.2612, val_acc: 0.6567\n",
      "Epoch [379], train_loss: 0.0057, val_loss: 2.0132, val_acc: 0.6600\n"
     ]
    }
   ],
   "source": [
    "history = fit(num_epochs, lr, model, train_dl, valid_dl, opt_func)"
   ]
  },
  {
   "cell_type": "code",
   "execution_count": 33,
   "metadata": {
    "id": "h2dJ3q5gJbtS"
   },
   "outputs": [],
   "source": [
    "def plot_accuracies(history):\n",
    "    accuracies = [x['val_acc'] for x in history]\n",
    "    plt.plot(accuracies, '-x')\n",
    "    plt.xlabel('epoch')\n",
    "    plt.ylabel('accuracy')\n",
    "    plt.title('Accuracy vs. No. of epochs');"
   ]
  },
  {
   "cell_type": "code",
   "execution_count": 34,
   "metadata": {
    "colab": {
     "base_uri": "https://localhost:8080/",
     "height": 301
    },
    "id": "Q5KugNesJbzC",
    "outputId": "0082c22c-ad63-45b2-b2f1-c0a05b0c3d76"
   },
   "outputs": [
    {
     "data": {
      "image/png": "[encoded data removed]",
      "text/plain": [
       "<Figure size 432x288 with 1 Axes>"
      ]
     },
     "metadata": {
      "tags": []
     },
     "output_type": "display_data"
    }
   ],
   "source": [
    "plot_accuracies(history)"
   ]
  },
  {
   "cell_type": "code",
   "execution_count": 35,
   "metadata": {
    "id": "dskf8lzEJb5c"
   },
   "outputs": [],
   "source": [
    "def plot_losses(history):\n",
    "    train_losses = [x.get('train_loss') for x in history]\n",
    "    val_losses = [x['val_loss'] for x in history]\n",
    "    plt.plot(train_losses, '-bx')\n",
    "    plt.plot(val_losses, '-rx')\n",
    "    plt.xlabel('epoch')\n",
    "    plt.ylabel('loss')\n",
    "    plt.legend(['Training', 'Validation'])\n",
    "    plt.title('Loss vs. No. of epochs');"
   ]
  },
  {
   "cell_type": "code",
   "execution_count": 36,
   "metadata": {
    "colab": {
     "base_uri": "https://localhost:8080/",
     "height": 301
    },
    "id": "UKWBfsWDKC8c",
    "outputId": "1e874a6a-50a4-4240-adbc-ab7358ccd4c2"
   },
   "outputs": [
    {
     "data": {
      "image/png": "[encoded data removed]",
      "text/plain": [
       "<Figure size 432x288 with 1 Axes>"
      ]
     },
     "metadata": {
      "tags": []
     },
     "output_type": "display_data"
    }
   ],
   "source": [
    "plot_losses(history)"
   ]
  },
  {
   "cell_type": "code",
   "execution_count": 37,
   "metadata": {
    "id": "BJPa2s0WKDFg"
   },
   "outputs": [],
   "source": [
    "def predict_image(img, model):\n",
    "    # Convert to a batch of 1\n",
    "    xb = to_device(img.unsqueeze(0), device)\n",
    "    # Get predictions from model\n",
    "    yb = model(xb)\n",
    "    # Pick index with highest probability\n",
    "    _, preds  = torch.max(yb, dim=1)\n",
    "    # Retrieve the class label\n",
    "    return train_ds.classes[preds[0].item()]"
   ]
  },
  {
   "cell_type": "code",
   "execution_count": 38,
   "metadata": {
    "id": "5uWc0RmVKDPE"
   },
   "outputs": [],
   "source": [
    "def show_example(img, label):\n",
    "    print('Label: ', train_ds.classes[label], \"(\"+str(label)+\")\")\n",
    "    plt.imshow(img.permute(1, 2, 0))"
   ]
  },
  {
   "cell_type": "code",
   "execution_count": 39,
   "metadata": {
    "colab": {
     "base_uri": "https://localhost:8080/",
     "height": 302
    },
    "id": "ik5UqwgpKM4E",
    "outputId": "8deeb07e-a5fd-4b55-d17a-73c2b9f8fd39"
   },
   "outputs": [
    {
     "name": "stderr",
     "output_type": "stream",
     "text": [
      "Clipping input data to the valid range for imshow with RGB data ([0..1] for floats or [0..255] for integers).\n"
     ]
    },
    {
     "name": "stdout",
     "output_type": "stream",
     "text": [
      "Label: box , Predicted: chevron\n"
     ]
    },
    {
     "data": {
      "image/png": "[encoded data removed]",
      "text/plain": [
       "<Figure size 432x288 with 1 Axes>"
      ]
     },
     "metadata": {
      "tags": []
     },
     "output_type": "display_data"
    }
   ],
   "source": [
    "img, label = test_ds[0]\n",
    "plt.imshow(img.permute(1, 2, 0))\n",
    "print('Label:', test_ds.classes[label], ', Predicted:', predict_image(img, model))"
   ]
  },
  {
   "cell_type": "code",
   "execution_count": 40,
   "metadata": {
    "colab": {
     "base_uri": "https://localhost:8080/"
    },
    "id": "ga472IqRKMzO",
    "outputId": "f35695bc-7b07-4101-8527-cfea160ec35a"
   },
   "outputs": [
    {
     "data": {
      "text/plain": [
       "{'val_acc': 0.6029411554336548, 'val_loss': 2.3309528827667236}"
      ]
     },
     "execution_count": 40,
     "metadata": {
      "tags": []
     },
     "output_type": "execute_result"
    }
   ],
   "source": [
    "test_loader = DeviceDataLoader(DataLoader(test_ds, batch_size), device)\n",
    "result = evaluate(model, test_loader)\n",
    "result"
   ]
  },
  {
   "cell_type": "code",
   "execution_count": 1,
   "metadata": {
    "id": "PcQHJNN5KMr_"
   },
   "outputs": [],
   "source": [
    "import math"
   ]
  },
  {
   "cell_type": "code",
   "execution_count": 4,
   "metadata": {},
   "outputs": [
    {
     "data": {
      "text/plain": [
       "NoneType"
      ]
     },
     "execution_count": 4,
     "metadata": {},
     "output_type": "execute_result"
    }
   ],
   "source": [
    "type(table)"
   ]
  },
  {
   "cell_type": "code",
   "execution_count": 38,
   "metadata": {
    "id": "ASpbPHhNKMnp"
   },
   "outputs": [],
   "source": [
    "ls = [1, 2, 3, 4, 5, 6, 7, 8]\n",
    "def mean(ls):\n",
    "    total = 0\n",
    "    for i in ls:\n",
    "        total += i\n",
    "        total1 = total/len(ls)\n",
    "    return total1"
   ]
  },
  {
   "cell_type": "code",
   "execution_count": 39,
   "metadata": {},
   "outputs": [
    {
     "data": {
      "text/plain": [
       "4.5"
      ]
     },
     "execution_count": 39,
     "metadata": {},
     "output_type": "execute_result"
    }
   ],
   "source": [
    "mean(ls)"
   ]
  },
  {
   "cell_type": "code",
   "execution_count": 40,
   "metadata": {},
   "outputs": [],
   "source": [
    "def mean1(ls):\n",
    "    total = 0\n",
    "    for num in nums(len(ls)):\n",
    "        total += num\n",
    "        total1 = total/len(ls)\n",
    "    return(total1)"
   ]
  },
  {
   "cell_type": "code",
   "execution_count": 41,
   "metadata": {},
   "outputs": [],
   "source": [
    "def mean2(nums):\n",
    "    total = 0\n",
    "    for num in nums:\n",
    "        total += num\n",
    "    return (total/len(ls))"
   ]
  },
  {
   "cell_type": "code",
   "execution_count": 42,
   "metadata": {},
   "outputs": [
    {
     "data": {
      "text/plain": [
       "4.5"
      ]
     },
     "execution_count": 42,
     "metadata": {},
     "output_type": "execute_result"
    }
   ],
   "source": [
    "mean2(ls)"
   ]
  },
  {
   "cell_type": "code",
   "execution_count": null,
   "metadata": {},
   "outputs": [],
   "source": []
  }
 ],
 "metadata": {
  "accelerator": "GPU",
  "colab": {
   "collapsed_sections": [],
   "name": "06032021.ipynb",
   "provenance": []
  },
  "kernelspec": {
   "display_name": "Python 3 (ipykernel)",
   "language": "python",
   "name": "python3"
  },
  "language_info": {
   "codemirror_mode": {
    "name": "ipython",
    "version": 3
   },
   "file_extension": ".py",
   "mimetype": "text/x-python",
   "name": "python",
   "nbconvert_exporter": "python",
   "pygments_lexer": "ipython3",
   "version": "3.9.10"
  }
 },
 "nbformat": 4,
 "nbformat_minor": 1
}
