{
  "nbformat": 4,
  "nbformat_minor": 0,
  "metadata": {
    "accelerator": "GPU",
    "colab": {
      "provenance": []
    },
    "kernelspec": {
      "display_name": "Python 3",
      "language": "python",
      "name": "python3"
    },
    "language_info": {
      "codemirror_mode": {
        "name": "ipython",
        "version": 3
      },
      "file_extension": ".py",
      "mimetype": "text/x-python",
      "name": "python",
      "nbconvert_exporter": "python",
      "pygments_lexer": "ipython3",
      "version": "3.8.5"
    }
  },
  "cells": [
    {
      "cell_type": "code",
      "metadata": {
        "id": "8bce8pT9mLf1"
      },
      "source": [
        "# # Jovian Commit Essentials\n",
        "# # Please retain and execute this cell without modifying the contents for `jovian.commit` to work\n",
        "# !pip install jovian --upgrade -q\n",
        "# import jovian\n",
        "# jovian.set_project('foldtool-resnet9-coloured-1202201-acc57')\n",
        "# jovian.set_colab_id('1l0W_eHrITRIYdleabqm4LhkJovUbseCF')"
      ],
      "execution_count": null,
      "outputs": []
    },
    {
      "cell_type": "code",
      "metadata": {
        "id": "94N_xWnqA0f4"
      },
      "source": [
        "import cv2\n",
        "import numpy as np\n",
        "import matplotlib.pyplot as plt\n",
        "import seaborn as sns; sns.set()\n",
        "from keras.datasets import cifar10\n",
        "from sklearn.preprocessing import OneHotEncoder\n",
        "from sklearn.metrics import confusion_matrix\n",
        "from keras.layers import Conv2D, MaxPool2D, Flatten, Dense, Dropout\n",
        "from keras.models import Sequential, load_model\n",
        "from keras.callbacks import EarlyStopping"
      ],
      "execution_count": null,
      "outputs": []
    },
    {
      "cell_type": "code",
      "metadata": {
        "id": "fkcb19DPBI0j"
      },
      "source": [
        "import glob\n",
        "import os\n",
        "import torch\n",
        "import tarfile\n",
        "import imageio\n",
        "import tarfile\n",
        "import pandas as pd\n",
        "import numpy as np\n",
        "import torchvision\n",
        "from PIL import Image\n",
        "import seaborn as sns\n",
        "import torchvision.models as models\n",
        "import matplotlib.pyplot as plt\n",
        "from tqdm.notebook import tqdm\n",
        "import torchvision.transforms as T\n",
        "from sklearn.metrics import f1_score\n",
        "import torch.nn.functional as F\n",
        "import torch.nn as nn\n",
        "from torchvision.utils import make_grid\n",
        "import matplotlib\n",
        "%matplotlib inline\n",
        "import torchvision.transforms as transforms\n",
        "import torchvision.transforms as tt\n",
        "from torchvision.datasets.utils import download_url\n",
        "from torch.utils.data import Dataset, random_split, DataLoader\n",
        "from torchvision.datasets import ImageFolder\n",
        "from torchvision.transforms import ToTensor\n",
        "import tensorflow as tf\n",
        "from keras_preprocessing.image import ImageDataGenerator\n",
        "import torch.nn as nn\n",
        "import torch.nn.functional as F\n",
        "\n",
        "matplotlib.rcParams['figure.facecolor'] = '#ffffff'"
      ],
      "execution_count": null,
      "outputs": []
    },
    {
      "cell_type": "code",
      "metadata": {
        "colab": {
          "base_uri": "https://localhost:8080/"
        },
        "id": "7dDAVl7OBSWH",
        "outputId": "7b789b04-47eb-4e1f-f108-2b924a22ebea"
      },
      "source": [
        "train_dir = '/content/drive/MyDrive/fdata_aksh'\n",
        "\n",
        "print(os.listdir(train_dir))\n",
        "classes = os.listdir(train_dir + \"/TRAIN\")\n",
        "print(classes)"
      ],
      "execution_count": null,
      "outputs": [
        {
          "output_type": "stream",
          "text": [
            "['TEST', 'TRAIN', 'VAL']\n",
            "['box', 'chevron', 'rounded']\n"
          ],
          "name": "stdout"
        }
      ]
    },
    {
      "cell_type": "code",
      "metadata": {
        "colab": {
          "base_uri": "https://localhost:8080/"
        },
        "id": "FTNCntacM4FV",
        "outputId": "9caa557b-707e-4ac8-db39-ba44a2999d10"
      },
      "source": [
        "from google.colab import drive\n",
        "drive.mount('/content/drive')"
      ],
      "execution_count": null,
      "outputs": [
        {
          "output_type": "stream",
          "text": [
            "Drive already mounted at /content/drive; to attempt to forcibly remount, call drive.mount(\"/content/drive\", force_remount=True).\n"
          ],
          "name": "stdout"
        }
      ]
    },
    {
      "cell_type": "code",
      "metadata": {
        "colab": {
          "base_uri": "https://localhost:8080/"
        },
        "id": "mhpIS5AFNqAp",
        "outputId": "4fdbc58f-8d80-4be2-9046-e4d86a91865b"
      },
      "source": [
        "valid_dir = '/content/drive/MyDrive/fdata_aksh'\n",
        "\n",
        "print(os.listdir(valid_dir))\n",
        "classes = os.listdir(valid_dir + \"/VAL\")\n",
        "print(classes)"
      ],
      "execution_count": null,
      "outputs": [
        {
          "output_type": "stream",
          "text": [
            "['TEST', 'TRAIN', 'VAL']\n",
            "['chevron', 'rounded', 'box']\n"
          ],
          "name": "stdout"
        }
      ]
    },
    {
      "cell_type": "code",
      "metadata": {
        "colab": {
          "base_uri": "https://localhost:8080/"
        },
        "id": "KC1CW9GvNzNY",
        "outputId": "16085e61-f2f1-4c5f-a993-c5c18a814d57"
      },
      "source": [
        "test_dir = '/content/drive/MyDrive/fdata_aksh'\n",
        "\n",
        "print(os.listdir(test_dir))\n",
        "classes = os.listdir(test_dir + \"/TEST\")\n",
        "print(classes)"
      ],
      "execution_count": null,
      "outputs": [
        {
          "output_type": "stream",
          "text": [
            "['TEST', 'TRAIN', 'VAL']\n",
            "['chevron', 'box', 'rounded']\n"
          ],
          "name": "stdout"
        }
      ]
    },
    {
      "cell_type": "code",
      "metadata": {
        "id": "6jWnRc0BOBzR"
      },
      "source": [
        "transform = transforms.Compose([transforms.Resize((128, 128)), \n",
        "                                #transforms.Grayscale(num_output_channels=3),\n",
        "                                transforms.ToTensor()])"
      ],
      "execution_count": null,
      "outputs": []
    },
    {
      "cell_type": "code",
      "metadata": {
        "id": "KXT4i9sBOxzx"
      },
      "source": [
        "train_ds = ImageFolder(\"/content/drive/MyDrive/fdata_aksh/TRAIN\" , transform=transform)\n",
        "valid_ds = ImageFolder(\"/content/drive/MyDrive/fdata_aksh/VAL\" , transform=transform)\n",
        "test_ds = ImageFolder(\"/content/drive/MyDrive/fdata_aksh/TEST\" , transform=transform)"
      ],
      "execution_count": null,
      "outputs": []
    },
    {
      "cell_type": "code",
      "metadata": {
        "colab": {
          "base_uri": "https://localhost:8080/"
        },
        "id": "Zig9B1KhO_tg",
        "outputId": "0cce5733-992c-4d20-9742-68fca8dead73"
      },
      "source": [
        "len(train_ds), len(valid_ds), len(test_ds)"
      ],
      "execution_count": null,
      "outputs": [
        {
          "output_type": "execute_result",
          "data": {
            "text/plain": [
              "(3913, 300, 68)"
            ]
          },
          "metadata": {
            "tags": []
          },
          "execution_count": 10
        }
      ]
    },
    {
      "cell_type": "code",
      "metadata": {
        "colab": {
          "base_uri": "https://localhost:8080/"
        },
        "id": "iOA4HF1JPTuA",
        "outputId": "6307ca20-7a3a-43c9-a7c6-ac60f83df58e"
      },
      "source": [
        "print(train_ds.classes)"
      ],
      "execution_count": null,
      "outputs": [
        {
          "output_type": "stream",
          "text": [
            "['box', 'chevron', 'rounded']\n"
          ],
          "name": "stdout"
        }
      ]
    },
    {
      "cell_type": "code",
      "metadata": {
        "id": "tWXQacRXPViu"
      },
      "source": [
        "batch_size = 128"
      ],
      "execution_count": null,
      "outputs": []
    },
    {
      "cell_type": "code",
      "metadata": {
        "id": "3EJ9bynH2bX3",
        "colab": {
          "base_uri": "https://localhost:8080/"
        },
        "outputId": "61f6c0ad-8967-4fe9-9ff2-aa573af48faf"
      },
      "source": [
        "train_dl = DataLoader(train_ds, batch_size, shuffle=True, num_workers=4, pin_memory=True)\n",
        "valid_dl = DataLoader(valid_ds, batch_size, num_workers=4, pin_memory=True)\n",
        "test_dl = DataLoader(test_ds, batch_size, num_workers=4, pin_memory=True)"
      ],
      "execution_count": null,
      "outputs": [
        {
          "output_type": "stream",
          "text": [
            "/usr/local/lib/python3.7/dist-packages/torch/utils/data/dataloader.py:477: UserWarning: This DataLoader will create 4 worker processes in total. Our suggested max number of worker in current system is 2, which is smaller than what this DataLoader is going to create. Please be aware that excessive worker creation might get DataLoader running slow or even freeze, lower the worker number to avoid potential slowness/freeze if necessary.\n",
            "  cpuset_checked))\n"
          ],
          "name": "stderr"
        }
      ]
    },
    {
      "cell_type": "code",
      "metadata": {
        "colab": {
          "base_uri": "https://localhost:8080/"
        },
        "id": "KNzEbNnd2brW",
        "outputId": "89ace398-7ecb-48dd-95c2-93f409b1ad51"
      },
      "source": [
        "img, label = train_ds[0]\n",
        "print(img.shape, label)\n",
        "img"
      ],
      "execution_count": null,
      "outputs": [
        {
          "output_type": "stream",
          "text": [
            "torch.Size([3, 128, 128]) 0\n"
          ],
          "name": "stdout"
        },
        {
          "output_type": "execute_result",
          "data": {
            "text/plain": [
              "tensor([[[0.8784, 0.8824, 0.8824,  ..., 0.2235, 0.2196, 0.2784],\n",
              "         [0.8784, 0.8824, 0.8863,  ..., 0.2039, 0.2235, 0.2471],\n",
              "         [0.8784, 0.8902, 0.8941,  ..., 0.2471, 0.2196, 0.2000],\n",
              "         ...,\n",
              "         [0.5608, 0.5765, 0.5765,  ..., 0.1961, 0.1451, 0.1961],\n",
              "         [0.5608, 0.5804, 0.5961,  ..., 0.2471, 0.2471, 0.2510],\n",
              "         [0.5725, 0.5608, 0.5843,  ..., 0.3333, 0.3569, 0.3373]],\n",
              "\n",
              "        [[0.8745, 0.8784, 0.8784,  ..., 0.2745, 0.2667, 0.3333],\n",
              "         [0.8745, 0.8784, 0.8824,  ..., 0.2549, 0.2784, 0.2941],\n",
              "         [0.8745, 0.8784, 0.8784,  ..., 0.3020, 0.2784, 0.2549],\n",
              "         ...,\n",
              "         [0.5882, 0.6039, 0.6039,  ..., 0.2353, 0.1882, 0.2196],\n",
              "         [0.5882, 0.6000, 0.6196,  ..., 0.3176, 0.3176, 0.3137],\n",
              "         [0.6000, 0.5882, 0.6157,  ..., 0.3961, 0.4118, 0.4000]],\n",
              "\n",
              "        [[0.8667, 0.8706, 0.8706,  ..., 0.3059, 0.3059, 0.3216],\n",
              "         [0.8667, 0.8706, 0.8745,  ..., 0.3020, 0.3059, 0.3059],\n",
              "         [0.8667, 0.8706, 0.8745,  ..., 0.3098, 0.2980, 0.2941],\n",
              "         ...,\n",
              "         [0.6627, 0.6745, 0.6745,  ..., 0.3216, 0.2667, 0.2902],\n",
              "         [0.6588, 0.6706, 0.6863,  ..., 0.4157, 0.4157, 0.4118],\n",
              "         [0.6706, 0.6549, 0.6824,  ..., 0.4863, 0.4980, 0.4902]]])"
            ]
          },
          "metadata": {
            "tags": []
          },
          "execution_count": 14
        }
      ]
    },
    {
      "cell_type": "code",
      "metadata": {
        "colab": {
          "base_uri": "https://localhost:8080/"
        },
        "id": "0SSgrorm_T1P",
        "outputId": "4f2b5836-177d-4d39-c6ae-476772f6884b"
      },
      "source": [
        "img, label = valid_ds[0]\n",
        "print(img.shape, label)\n",
        "img"
      ],
      "execution_count": null,
      "outputs": [
        {
          "output_type": "stream",
          "text": [
            "torch.Size([3, 128, 128]) 0\n"
          ],
          "name": "stdout"
        },
        {
          "output_type": "execute_result",
          "data": {
            "text/plain": [
              "tensor([[[0.6706, 0.6863, 0.6902,  ..., 0.1569, 0.1451, 0.2039],\n",
              "         [0.6824, 0.6980, 0.7059,  ..., 0.1333, 0.1608, 0.1725],\n",
              "         [0.6941, 0.7176, 0.7216,  ..., 0.1882, 0.1569, 0.1294],\n",
              "         ...,\n",
              "         [0.4000, 0.4196, 0.4235,  ..., 0.1412, 0.0863, 0.1255],\n",
              "         [0.3882, 0.4118, 0.4275,  ..., 0.1804, 0.1882, 0.1843],\n",
              "         [0.3961, 0.3882, 0.4078,  ..., 0.2431, 0.2627, 0.2510]],\n",
              "\n",
              "        [[0.6706, 0.6863, 0.6902,  ..., 0.1569, 0.1451, 0.2039],\n",
              "         [0.6824, 0.6980, 0.7059,  ..., 0.1333, 0.1608, 0.1725],\n",
              "         [0.6941, 0.7176, 0.7216,  ..., 0.1882, 0.1569, 0.1294],\n",
              "         ...,\n",
              "         [0.4000, 0.4196, 0.4235,  ..., 0.1412, 0.0863, 0.1255],\n",
              "         [0.3882, 0.4118, 0.4275,  ..., 0.1804, 0.1882, 0.1843],\n",
              "         [0.3961, 0.3882, 0.4078,  ..., 0.2431, 0.2627, 0.2510]],\n",
              "\n",
              "        [[0.6706, 0.6863, 0.6902,  ..., 0.1569, 0.1451, 0.2039],\n",
              "         [0.6824, 0.6980, 0.7059,  ..., 0.1333, 0.1608, 0.1725],\n",
              "         [0.6941, 0.7176, 0.7216,  ..., 0.1882, 0.1569, 0.1294],\n",
              "         ...,\n",
              "         [0.4000, 0.4196, 0.4235,  ..., 0.1412, 0.0863, 0.1255],\n",
              "         [0.3882, 0.4118, 0.4275,  ..., 0.1804, 0.1882, 0.1843],\n",
              "         [0.3961, 0.3882, 0.4078,  ..., 0.2431, 0.2627, 0.2510]]])"
            ]
          },
          "metadata": {
            "tags": []
          },
          "execution_count": 15
        }
      ]
    },
    {
      "cell_type": "code",
      "metadata": {
        "id": "eI29Bt00z2E2"
      },
      "source": [
        "import matplotlib\n",
        "import matplotlib.pyplot as plt\n",
        "%matplotlib inline\n",
        "\n",
        "matplotlib.rcParams['figure.facecolor'] = '#ffffff'"
      ],
      "execution_count": null,
      "outputs": []
    },
    {
      "cell_type": "code",
      "metadata": {
        "id": "rP7Xen0Zz2SQ"
      },
      "source": [
        "def show_example(img, label):\n",
        "    print('Label: ', train_ds.classes[label], \"(\"+str(label)+\")\")\n",
        "    plt.imshow(img.permute(1, 2, 0))"
      ],
      "execution_count": null,
      "outputs": []
    },
    {
      "cell_type": "code",
      "metadata": {
        "colab": {
          "base_uri": "https://localhost:8080/",
          "height": 288
        },
        "id": "kYTVozep0aRb",
        "outputId": "88f278b3-2ab7-4610-e111-2d248d451e8f"
      },
      "source": [
        "show_example(*train_ds[1000])"
      ],
      "execution_count": null,
      "outputs": [
        {
          "output_type": "stream",
          "text": [
            "Label:  box (0)\n"
          ],
          "name": "stdout"
        },
        {
          "output_type": "display_data",
          "data": {
            "image/png": "[encoded data removed]",
            "text/plain": [
              "<Figure size 432x288 with 1 Axes>"
            ]
          },
          "metadata": {
            "tags": []
          }
        }
      ]
    },
    {
      "cell_type": "code",
      "metadata": {
        "colab": {
          "base_uri": "https://localhost:8080/",
          "height": 288
        },
        "id": "UEOCKptL6Rms",
        "outputId": "e8329e52-8a35-47f1-a3c7-6b2cab573d28"
      },
      "source": [
        "show_example(*train_ds[10])"
      ],
      "execution_count": null,
      "outputs": [
        {
          "output_type": "stream",
          "text": [
            "Label:  box (0)\n"
          ],
          "name": "stdout"
        },
        {
          "output_type": "display_data",
          "data": {
            "image/png": "[encoded data removed]",
            "text/plain": [
              "<Figure size 432x288 with 1 Axes>"
            ]
          },
          "metadata": {
            "tags": []
          }
        }
      ]
    },
    {
      "cell_type": "code",
      "metadata": {
        "colab": {
          "base_uri": "https://localhost:8080/"
        },
        "id": "FP464rW_RCIh",
        "outputId": "6145c17e-516b-46cc-e9e1-73f98cf2136f"
      },
      "source": [
        "print(train_ds.classes)\n",
        "#print(test_ds.classes)\n",
        "print(valid_ds.classes)"
      ],
      "execution_count": null,
      "outputs": [
        {
          "output_type": "stream",
          "text": [
            "['box', 'chevron', 'rounded']\n",
            "['box', 'chevron', 'rounded']\n"
          ],
          "name": "stdout"
        }
      ]
    },
    {
      "cell_type": "code",
      "metadata": {
        "id": "eme4W7RvTGNV"
      },
      "source": [
        "def show_batch(dl):\n",
        "    for images, labels in dl:\n",
        "        fig, ax = plt.subplots(figsize=(12, 12))\n",
        "        ax.set_xticks([]); ax.set_yticks([])\n",
        "        ax.imshow(make_grid(images[:4], nrow=8).permute(1, 2, 0).clamp(0,1))\n",
        "        break"
      ],
      "execution_count": null,
      "outputs": []
    },
    {
      "cell_type": "code",
      "metadata": {
        "id": "gNlw0Q_gR4d9"
      },
      "source": [
        "# show_batch(train_dl)"
      ],
      "execution_count": null,
      "outputs": []
    },
    {
      "cell_type": "code",
      "metadata": {
        "id": "770FtaPxZX0N"
      },
      "source": [
        "# show_batch(valid_dl)"
      ],
      "execution_count": null,
      "outputs": []
    },
    {
      "cell_type": "code",
      "metadata": {
        "id": "13uDk9yvZd2B"
      },
      "source": [
        "# show_batch(test_dl)"
      ],
      "execution_count": null,
      "outputs": []
    },
    {
      "cell_type": "code",
      "metadata": {
        "id": "bOzUMChBa6Ev"
      },
      "source": [
        "def get_default_device():\n",
        "    \"\"\"Pick GPU if available, else CPU\"\"\"\n",
        "    if torch.cuda.is_available():\n",
        "        return torch.device('cuda')\n",
        "    else:\n",
        "        return torch.device('cpu')\n",
        "    \n",
        "def to_device(data, device):\n",
        "    \"\"\"Move tensor(s) to chosen device\"\"\"\n",
        "    if isinstance(data, (list,tuple)):\n",
        "        return [to_device(x, device) for x in data]\n",
        "    return data.to(device, non_blocking=True)\n",
        "\n",
        "class DeviceDataLoader():\n",
        "    \"\"\"Wrap a dataloader to move data to a device\"\"\"\n",
        "    def __init__(self, dl, device):\n",
        "        self.dl = dl\n",
        "        self.device = device\n",
        "        \n",
        "    def __iter__(self):\n",
        "        \"\"\"Yield a batch of data after moving it to device\"\"\"\n",
        "        for b in self.dl: \n",
        "            yield to_device(b, self.device)\n",
        "\n",
        "    def __len__(self):\n",
        "        \"\"\"Number of batches\"\"\"\n",
        "        return len(self.dl)"
      ],
      "execution_count": null,
      "outputs": []
    },
    {
      "cell_type": "code",
      "metadata": {
        "colab": {
          "base_uri": "https://localhost:8080/"
        },
        "id": "gUZpvkmTa9cL",
        "outputId": "3e386fce-20d7-4f81-e9e7-4486fadaba95"
      },
      "source": [
        "device = get_default_device()\n",
        "device"
      ],
      "execution_count": null,
      "outputs": [
        {
          "output_type": "execute_result",
          "data": {
            "text/plain": [
              "device(type='cuda')"
            ]
          },
          "metadata": {
            "tags": []
          },
          "execution_count": 26
        }
      ]
    },
    {
      "cell_type": "code",
      "metadata": {
        "id": "yTz--8k_rjC9"
      },
      "source": [
        "class ImageClassificationBase(nn.Module):\n",
        "    def training_step(self, batch):\n",
        "        images, labels = batch \n",
        "        out = self(images)                  # Generate predictions\n",
        "        loss = F.cross_entropy(out, labels) # Calculate loss\n",
        "        return loss\n",
        "    \n",
        "    def validation_step(self, batch):\n",
        "        images, labels = batch \n",
        "        out = self(images)                    # Generate predictions\n",
        "        loss = F.cross_entropy(out, labels)   # Calculate loss\n",
        "        acc = accuracy(out, labels)           # Calculate accuracy\n",
        "        return {'val_loss': loss.detach(), 'val_acc': acc}\n",
        "        \n",
        "    def validation_epoch_end(self, outputs):\n",
        "        batch_losses = [x['val_loss'] for x in outputs]\n",
        "        epoch_loss = torch.stack(batch_losses).mean()   # Combine losses\n",
        "        batch_accs = [x['val_acc'] for x in outputs]\n",
        "        epoch_acc = torch.stack(batch_accs).mean()      # Combine accuracies\n",
        "        return {'val_loss': epoch_loss.item(), 'val_acc': epoch_acc.item()}\n",
        "    \n",
        "    def epoch_end(self, epoch, result):\n",
        "        print(\"Epoch [{}], train_loss: {:.4f}, val_loss: {:.4f}, val_acc: {:.4f}\".format(\n",
        "            epoch, result['train_loss'], result['val_loss'], result['val_acc']))\n",
        "        \n",
        "def accuracy(outputs, labels):\n",
        "    _, preds = torch.max(outputs, dim=1)\n",
        "    return torch.tensor(torch.sum(preds == labels).item() / len(preds))"
      ],
      "execution_count": null,
      "outputs": []
    },
    {
      "cell_type": "code",
      "metadata": {
        "id": "f0PsU1_XZ2fg"
      },
      "source": [
        "from torchvision import models\n",
        "class RamseyFoldModel(ImageClassificationBase):\n",
        "    def __init__(self):\n",
        "        super().__init__()\n",
        "        self.network = nn.Sequential(\n",
        "            nn.Conv2d(3, 32, kernel_size=3, padding=1),\n",
        "            nn.ReLU(),\n",
        "            nn.Conv2d(32, 64, kernel_size=3, stride=1, padding=1),\n",
        "            nn.ReLU(),\n",
        "            nn.MaxPool2d(2, 2), # output: 64 x 64 x 64\n",
        "\n",
        "            nn.Conv2d(64, 128, kernel_size=3, stride=1, padding=1),\n",
        "            nn.ReLU(),\n",
        "            nn.Conv2d(128, 128, kernel_size=3, stride=1, padding=1),\n",
        "            nn.ReLU(),\n",
        "            nn.MaxPool2d(2, 2), # output: 128 x 32 x 32\n",
        "\n",
        "            nn.Conv2d(128, 256, kernel_size=3, stride=1, padding=1),\n",
        "            nn.ReLU(),\n",
        "            nn.Conv2d(256, 256, kernel_size=3, stride=1, padding=1),\n",
        "            nn.ReLU(),\n",
        "            nn.MaxPool2d(2, 2), # output: 256 x 16 x 16\n",
        "\n",
        "            nn.Flatten(), \n",
        "            nn.Linear(256*16*16, 4096),\n",
        "            nn.ReLU(),\n",
        "            nn.Linear(4096, 2048),\n",
        "            nn.ReLU(),\n",
        "            nn.Linear(2048, 3))\n",
        "\n",
        "    def forward(self, xb):\n",
        "        return self.network(xb)"
      ],
      "execution_count": null,
      "outputs": []
    },
    {
      "cell_type": "code",
      "metadata": {
        "colab": {
          "base_uri": "https://localhost:8080/"
        },
        "id": "O9Ek30atrYF4",
        "outputId": "b612b485-9e5c-4adc-f015-9b9a299b5499"
      },
      "source": [
        "model = RamseyFoldModel()\n",
        "model"
      ],
      "execution_count": null,
      "outputs": [
        {
          "output_type": "execute_result",
          "data": {
            "text/plain": [
              "RamseyFoldModel(\n",
              "  (network): Sequential(\n",
              "    (0): Conv2d(3, 32, kernel_size=(3, 3), stride=(1, 1), padding=(1, 1))\n",
              "    (1): ReLU()\n",
              "    (2): Conv2d(32, 64, kernel_size=(3, 3), stride=(1, 1), padding=(1, 1))\n",
              "    (3): ReLU()\n",
              "    (4): MaxPool2d(kernel_size=2, stride=2, padding=0, dilation=1, ceil_mode=False)\n",
              "    (5): Conv2d(64, 128, kernel_size=(3, 3), stride=(1, 1), padding=(1, 1))\n",
              "    (6): ReLU()\n",
              "    (7): Conv2d(128, 128, kernel_size=(3, 3), stride=(1, 1), padding=(1, 1))\n",
              "    (8): ReLU()\n",
              "    (9): MaxPool2d(kernel_size=2, stride=2, padding=0, dilation=1, ceil_mode=False)\n",
              "    (10): Conv2d(128, 256, kernel_size=(3, 3), stride=(1, 1), padding=(1, 1))\n",
              "    (11): ReLU()\n",
              "    (12): Conv2d(256, 256, kernel_size=(3, 3), stride=(1, 1), padding=(1, 1))\n",
              "    (13): ReLU()\n",
              "    (14): MaxPool2d(kernel_size=2, stride=2, padding=0, dilation=1, ceil_mode=False)\n",
              "    (15): Flatten(start_dim=1, end_dim=-1)\n",
              "    (16): Linear(in_features=65536, out_features=4096, bias=True)\n",
              "    (17): ReLU()\n",
              "    (18): Linear(in_features=4096, out_features=2048, bias=True)\n",
              "    (19): ReLU()\n",
              "    (20): Linear(in_features=2048, out_features=3, bias=True)\n",
              "  )\n",
              ")"
            ]
          },
          "metadata": {
            "tags": []
          },
          "execution_count": 29
        }
      ]
    },
    {
      "cell_type": "code",
      "metadata": {
        "colab": {
          "base_uri": "https://localhost:8080/"
        },
        "id": "mUpVIud8rX7R",
        "outputId": "95a83bd7-10c2-453a-e545-d1d32da573ca"
      },
      "source": [
        "for images, labels in train_dl:\n",
        "    print('images.shape:', images.shape)\n",
        "    out = model(images)\n",
        "    print('out.shape:', out.shape)\n",
        "    print('out[0]:', out[0])\n",
        "    break"
      ],
      "execution_count": null,
      "outputs": [
        {
          "output_type": "stream",
          "text": [
            "/usr/local/lib/python3.7/dist-packages/torch/utils/data/dataloader.py:477: UserWarning: This DataLoader will create 4 worker processes in total. Our suggested max number of worker in current system is 2, which is smaller than what this DataLoader is going to create. Please be aware that excessive worker creation might get DataLoader running slow or even freeze, lower the worker number to avoid potential slowness/freeze if necessary.\n",
            "  cpuset_checked))\n"
          ],
          "name": "stderr"
        },
        {
          "output_type": "stream",
          "text": [
            "images.shape: torch.Size([128, 3, 128, 128])\n",
            "out.shape: torch.Size([128, 3])\n",
            "out[0]: tensor([-0.0056, -0.0029,  0.0083], grad_fn=<SelectBackward>)\n"
          ],
          "name": "stdout"
        }
      ]
    },
    {
      "cell_type": "code",
      "metadata": {
        "id": "t3mas59srWv_"
      },
      "source": [
        "def get_default_device():\n",
        "    \"\"\"Pick GPU if available, else CPU\"\"\"\n",
        "    if torch.cuda.is_available():\n",
        "        return torch.device('cuda')\n",
        "    else:\n",
        "        return torch.device('cpu')\n",
        "    \n",
        "def to_device(data, device):\n",
        "    \"\"\"Move tensor(s) to chosen device\"\"\"\n",
        "    if isinstance(data, (list,tuple)):\n",
        "        return [to_device(x, device) for x in data]\n",
        "    return data.to(device, non_blocking=True)\n",
        "\n",
        "class DeviceDataLoader():\n",
        "    \"\"\"Wrap a dataloader to move data to a device\"\"\"\n",
        "    def __init__(self, dl, device):\n",
        "        self.dl = dl\n",
        "        self.device = device\n",
        "        \n",
        "    def __iter__(self):\n",
        "        \"\"\"Yield a batch of data after moving it to device\"\"\"\n",
        "        for b in self.dl: \n",
        "            yield to_device(b, self.device)\n",
        "\n",
        "    def __len__(self):\n",
        "        \"\"\"Number of batches\"\"\"\n",
        "        return len(self.dl)"
      ],
      "execution_count": null,
      "outputs": []
    },
    {
      "cell_type": "code",
      "metadata": {
        "colab": {
          "base_uri": "https://localhost:8080/"
        },
        "id": "z66drJdabzsI",
        "outputId": "76aa2ea6-e7f4-47f9-860b-59da89c361b5"
      },
      "source": [
        "device = get_default_device()\n",
        "device"
      ],
      "execution_count": null,
      "outputs": [
        {
          "output_type": "execute_result",
          "data": {
            "text/plain": [
              "device(type='cuda')"
            ]
          },
          "metadata": {
            "tags": []
          },
          "execution_count": 32
        }
      ]
    },
    {
      "cell_type": "code",
      "metadata": {
        "id": "ERAoy4HKsRLN"
      },
      "source": [
        "train_dl = DeviceDataLoader(train_dl, device)\n",
        "valid_dl = DeviceDataLoader(valid_dl, device)\n",
        "test_dl = DeviceDataLoader(test_dl, device)\n",
        "to_device(model, device);"
      ],
      "execution_count": null,
      "outputs": []
    },
    {
      "cell_type": "code",
      "metadata": {
        "id": "8fvqkksMsTdz"
      },
      "source": [
        "@torch.no_grad()\n",
        "def evaluate(model, val_loader):\n",
        "    model.eval()\n",
        "    outputs = [model.validation_step(batch) for batch in val_loader]\n",
        "    return model.validation_epoch_end(outputs)\n",
        "\n",
        "def fit(epochs, lr, model, train_loader, val_loader, opt_func=torch.optim.SGD):\n",
        "    history = []\n",
        "    optimizer = opt_func(model.parameters(), lr)\n",
        "    for epoch in range(epochs):\n",
        "        # Training Phase \n",
        "        model.train()\n",
        "        train_losses = []\n",
        "        for batch in train_loader:\n",
        "            loss = model.training_step(batch)\n",
        "            train_losses.append(loss)\n",
        "            loss.backward()\n",
        "            optimizer.step()\n",
        "            optimizer.zero_grad()\n",
        "        # Validation phase\n",
        "        result = evaluate(model, val_loader)\n",
        "        result['train_loss'] = torch.stack(train_losses).mean().item()\n",
        "        model.epoch_end(epoch, result)\n",
        "        history.append(result)\n",
        "    return history"
      ],
      "execution_count": null,
      "outputs": []
    },
    {
      "cell_type": "code",
      "metadata": {
        "id": "YoOX8oDEsV-T"
      },
      "source": [
        "model = to_device(RamseyFoldModel(), device)"
      ],
      "execution_count": null,
      "outputs": []
    },
    {
      "cell_type": "code",
      "metadata": {
        "colab": {
          "base_uri": "https://localhost:8080/"
        },
        "id": "xB9YUYo8sZYH",
        "outputId": "b4544a20-58ca-47ff-98ff-081f02d2a3a1"
      },
      "source": [
        "evaluate(model, valid_dl)"
      ],
      "execution_count": null,
      "outputs": [
        {
          "output_type": "stream",
          "text": [
            "/usr/local/lib/python3.7/dist-packages/torch/utils/data/dataloader.py:477: UserWarning: This DataLoader will create 4 worker processes in total. Our suggested max number of worker in current system is 2, which is smaller than what this DataLoader is going to create. Please be aware that excessive worker creation might get DataLoader running slow or even freeze, lower the worker number to avoid potential slowness/freeze if necessary.\n",
            "  cpuset_checked))\n"
          ],
          "name": "stderr"
        },
        {
          "output_type": "execute_result",
          "data": {
            "text/plain": [
              "{'val_acc': 0.2604166567325592, 'val_loss': 1.1009416580200195}"
            ]
          },
          "metadata": {
            "tags": []
          },
          "execution_count": 36
        }
      ]
    },
    {
      "cell_type": "code",
      "metadata": {
        "id": "aBByuFpIsbsw"
      },
      "source": [
        "# num_epochs = 18\n",
        "# opt_func = torch.optim.Adam\n",
        "# lr = 0.0009"
      ],
      "execution_count": null,
      "outputs": []
    },
    {
      "cell_type": "code",
      "metadata": {
        "id": "DVbbG5aeqVIj"
      },
      "source": [
        "# num_epochs = 80\n",
        "# opt_func = torch.optim.Adam\n",
        "# lr = 0.0009"
      ],
      "execution_count": null,
      "outputs": []
    },
    {
      "cell_type": "code",
      "metadata": {
        "id": "JDboDooAqVTd"
      },
      "source": [
        "num_epochs = 80\n",
        "opt_func = torch.optim.Adam\n",
        "lr = 0.0007"
      ],
      "execution_count": null,
      "outputs": []
    },
    {
      "cell_type": "code",
      "metadata": {
        "colab": {
          "base_uri": "https://localhost:8080/"
        },
        "id": "zei9Wv25shrL",
        "outputId": "e2524d10-56ac-465f-daf3-d75910f088de"
      },
      "source": [
        "history = fit(num_epochs, lr, model, train_dl, valid_dl, opt_func)"
      ],
      "execution_count": null,
      "outputs": [
        {
          "output_type": "stream",
          "text": [
            "/usr/local/lib/python3.7/dist-packages/torch/utils/data/dataloader.py:477: UserWarning: This DataLoader will create 4 worker processes in total. Our suggested max number of worker in current system is 2, which is smaller than what this DataLoader is going to create. Please be aware that excessive worker creation might get DataLoader running slow or even freeze, lower the worker number to avoid potential slowness/freeze if necessary.\n",
            "  cpuset_checked))\n"
          ],
          "name": "stderr"
        },
        {
          "output_type": "stream",
          "text": [
            "Epoch [0], train_loss: 1.0467, val_loss: 1.2139, val_acc: 0.2266\n",
            "Epoch [1], train_loss: 0.7069, val_loss: 1.1242, val_acc: 0.4356\n",
            "Epoch [2], train_loss: 0.5388, val_loss: 1.0915, val_acc: 0.4751\n",
            "Epoch [3], train_loss: 0.4687, val_loss: 1.0896, val_acc: 0.4979\n",
            "Epoch [4], train_loss: 0.4254, val_loss: 1.1227, val_acc: 0.5140\n",
            "Epoch [5], train_loss: 0.3865, val_loss: 1.1079, val_acc: 0.3932\n",
            "Epoch [6], train_loss: 0.3420, val_loss: 1.0593, val_acc: 0.5137\n",
            "Epoch [7], train_loss: 0.3395, val_loss: 1.1447, val_acc: 0.4628\n",
            "Epoch [8], train_loss: 0.2825, val_loss: 1.1835, val_acc: 0.4233\n",
            "Epoch [9], train_loss: 0.2498, val_loss: 1.4028, val_acc: 0.3980\n",
            "Epoch [10], train_loss: 0.2237, val_loss: 1.4408, val_acc: 0.4527\n",
            "Epoch [11], train_loss: 0.1692, val_loss: 1.5524, val_acc: 0.5369\n",
            "Epoch [12], train_loss: 0.1766, val_loss: 1.3654, val_acc: 0.5348\n",
            "Epoch [13], train_loss: 0.1213, val_loss: 1.5420, val_acc: 0.5367\n",
            "Epoch [14], train_loss: 0.0830, val_loss: 1.9963, val_acc: 0.5625\n",
            "Epoch [15], train_loss: 0.0868, val_loss: 2.0846, val_acc: 0.5518\n",
            "Epoch [16], train_loss: 0.0654, val_loss: 1.5230, val_acc: 0.6174\n",
            "Epoch [17], train_loss: 0.0531, val_loss: 2.5625, val_acc: 0.5537\n",
            "Epoch [18], train_loss: 0.0452, val_loss: 2.2141, val_acc: 0.5623\n",
            "Epoch [19], train_loss: 0.0380, val_loss: 2.2869, val_acc: 0.5215\n",
            "Epoch [20], train_loss: 0.0644, val_loss: 1.8405, val_acc: 0.5940\n",
            "Epoch [21], train_loss: 0.0468, val_loss: 2.2428, val_acc: 0.5509\n",
            "Epoch [22], train_loss: 0.0402, val_loss: 2.4044, val_acc: 0.5604\n"
          ],
          "name": "stdout"
        }
      ]
    },
    {
      "cell_type": "code",
      "metadata": {
        "id": "E7O7wl-tsmI3"
      },
      "source": [
        "def plot_accuracies(history):\n",
        "    accuracies = [x['val_acc'] for x in history]\n",
        "    plt.plot(accuracies, '-x')\n",
        "    plt.xlabel('epoch')\n",
        "    plt.ylabel('accuracy')\n",
        "    plt.title('Accuracy vs. No. of epochs');"
      ],
      "execution_count": null,
      "outputs": []
    },
    {
      "cell_type": "code",
      "metadata": {
        "id": "hlSkofJzsocP"
      },
      "source": [
        "plot_accuracies(history)"
      ],
      "execution_count": null,
      "outputs": []
    },
    {
      "cell_type": "code",
      "metadata": {
        "id": "9Mcrlp3LsuRz"
      },
      "source": [
        "def plot_losses(history):\n",
        "    train_losses = [x.get('train_loss') for x in history]\n",
        "    val_losses = [x['val_loss'] for x in history]\n",
        "    plt.plot(train_losses, '-bx')\n",
        "    plt.plot(val_losses, '-rx')\n",
        "    plt.xlabel('epoch')\n",
        "    plt.ylabel('loss')\n",
        "    plt.legend(['Training', 'Validation'])\n",
        "    plt.title('Loss vs. No. of epochs');"
      ],
      "execution_count": null,
      "outputs": []
    },
    {
      "cell_type": "code",
      "metadata": {
        "id": "QSLh4xJSsxjJ"
      },
      "source": [
        "plot_losses(history)"
      ],
      "execution_count": null,
      "outputs": []
    },
    {
      "cell_type": "code",
      "metadata": {
        "id": "uS_Iqvkks1OM"
      },
      "source": [
        "def predict_image(img, model):\n",
        "    # Convert to a batch of 1\n",
        "    xb = to_device(img.unsqueeze(0), device)\n",
        "    # Get predictions from model\n",
        "    yb = model(xb)\n",
        "    # Pick index with highest probability\n",
        "    _, preds  = torch.max(yb, dim=1)\n",
        "    # Retrieve the class label\n",
        "    return train_ds.classes[preds[0].item()]"
      ],
      "execution_count": null,
      "outputs": []
    },
    {
      "cell_type": "code",
      "metadata": {
        "id": "b9yuqT5RuM1i"
      },
      "source": [
        "def show_example(img, label):\n",
        "    print('Label: ', train_ds.classes[label], \"(\"+str(label)+\")\")\n",
        "    plt.imshow(img.permute(1, 2, 0))"
      ],
      "execution_count": null,
      "outputs": []
    },
    {
      "cell_type": "code",
      "metadata": {
        "id": "XqsOC_xws4RJ"
      },
      "source": [
        "img, label = test_ds[0]\n",
        "plt.imshow(img.permute(1, 2, 0))\n",
        "print('Label:', test_ds.classes[label], ', Predicted:', predict_image(img, model))"
      ],
      "execution_count": null,
      "outputs": []
    },
    {
      "cell_type": "code",
      "metadata": {
        "id": "Y6NP1c1hfF20"
      },
      "source": [
        "img, label = test_ds[1]\n",
        "plt.imshow(img.permute(1, 2, 0))\n",
        "print('Label:', test_ds.classes[label], ', Predicted:', predict_image(img, model))"
      ],
      "execution_count": null,
      "outputs": []
    },
    {
      "cell_type": "code",
      "metadata": {
        "id": "3r1y5OblfGF3"
      },
      "source": [
        "img, label = test_ds[2]\n",
        "plt.imshow(img.permute(1, 2, 0))\n",
        "print('Label:', test_ds.classes[label], ', Predicted:', predict_image(img, model))"
      ],
      "execution_count": null,
      "outputs": []
    },
    {
      "cell_type": "code",
      "metadata": {
        "id": "HJYJ8_rdfGMP"
      },
      "source": [
        "img, label = test_ds[3]\n",
        "plt.imshow(img.permute(1, 2, 0))\n",
        "print('Label:', test_ds.classes[label], ', Predicted:', predict_image(img, model))"
      ],
      "execution_count": null,
      "outputs": []
    },
    {
      "cell_type": "code",
      "metadata": {
        "id": "DSNOwIkbfGQA"
      },
      "source": [
        "img, label = test_ds[4]\n",
        "plt.imshow(img.permute(1, 2, 0))\n",
        "print('Label:', test_ds.classes[label], ', Predicted:', predict_image(img, model))"
      ],
      "execution_count": null,
      "outputs": []
    },
    {
      "cell_type": "code",
      "metadata": {
        "id": "sGVs7EC5-AMB"
      },
      "source": [
        "img, label = test_ds[5]\n",
        "plt.imshow(img.permute(1, 2, 0))\n",
        "print('Label:', test_ds.classes[label], ', Predicted:', predict_image(img, model))"
      ],
      "execution_count": null,
      "outputs": []
    },
    {
      "cell_type": "code",
      "metadata": {
        "id": "aDhnx0qaUNxo"
      },
      "source": [
        "img, label = test_ds[6]\n",
        "plt.imshow(img.permute(1, 2, 0))\n",
        "print('Label:', test_ds.classes[label], ', Predicted:', predict_image(img, model))"
      ],
      "execution_count": null,
      "outputs": []
    },
    {
      "cell_type": "code",
      "metadata": {
        "id": "PpiLQjwEdpSw"
      },
      "source": [
        "img, label = test_ds[7]\n",
        "plt.imshow(img.permute(1, 2, 0))\n",
        "print('Label:', test_ds.classes[label], ', Predicted:', predict_image(img, model))"
      ],
      "execution_count": null,
      "outputs": []
    },
    {
      "cell_type": "code",
      "metadata": {
        "id": "m1rSXfrkdpYz"
      },
      "source": [
        "img, label = test_ds[8]\n",
        "plt.imshow(img.permute(1, 2, 0))\n",
        "print('Label:', test_ds.classes[label], ', Predicted:', predict_image(img, model))"
      ],
      "execution_count": null,
      "outputs": []
    },
    {
      "cell_type": "code",
      "metadata": {
        "id": "FsS52nJJdpgb"
      },
      "source": [
        "img, label = test_ds[9]\n",
        "plt.imshow(img.permute(1, 2, 0))\n",
        "print('Label:', test_ds.classes[label], ', Predicted:', predict_image(img, model))"
      ],
      "execution_count": null,
      "outputs": []
    },
    {
      "cell_type": "code",
      "metadata": {
        "id": "M-Llr9tvhl92"
      },
      "source": [
        "img, label = test_ds[10]\n",
        "plt.imshow(img.permute(1, 2, 0))\n",
        "print('Label:', test_ds.classes[label], ', Predicted:', predict_image(img, model))"
      ],
      "execution_count": null,
      "outputs": []
    },
    {
      "cell_type": "code",
      "metadata": {
        "id": "pJH1jzFbhwuN"
      },
      "source": [
        "img, label = test_ds[11]\n",
        "plt.imshow(img.permute(1, 2, 0))\n",
        "print('Label:', test_ds.classes[label], ', Predicted:', predict_image(img, model))"
      ],
      "execution_count": null,
      "outputs": []
    },
    {
      "cell_type": "code",
      "metadata": {
        "id": "8bTC_H0Phw6J"
      },
      "source": [
        "img, label = test_ds[12]\n",
        "plt.imshow(img.permute(1, 2, 0))\n",
        "print('Label:', test_ds.classes[label], ', Predicted:', predict_image(img, model))"
      ],
      "execution_count": null,
      "outputs": []
    },
    {
      "cell_type": "code",
      "metadata": {
        "id": "3UqZqG91s7QA"
      },
      "source": [
        "test_loader = DeviceDataLoader(DataLoader(test_ds, batch_size), device)\n",
        "result = evaluate(model, test_loader)\n",
        "result"
      ],
      "execution_count": null,
      "outputs": []
    },
    {
      "cell_type": "code",
      "metadata": {
        "id": "eWs5zwvTtGBo"
      },
      "source": [],
      "execution_count": null,
      "outputs": []
    }
  ]
}